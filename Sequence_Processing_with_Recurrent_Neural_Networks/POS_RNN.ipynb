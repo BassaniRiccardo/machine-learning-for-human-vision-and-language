{
 "cells": [
  {
   "cell_type": "markdown",
   "metadata": {},
   "source": [
    "# Sequence Processing with Recurrent Neural Networks\n",
    "\n",
    "So far, we have seen how word vectors can be constructed from corpus statistics, and how they can be utilized to infer latent semantic content either in isolation (e.g. genders from names) or in relation to one another (e.g. similarities and analogies). \n",
    "\n",
    "For tasks involving larger linguistic units such as phrases, sentences and dialogues, we need machinery capable of processing _sequences_ or _structures_ of words.\n",
    "\n",
    "Recurrent Neural Networks are an example of such machinery; for this assignment, you will construct a recurrent neural network that annotates each word of a sentence with a linguistically informative marker. In the simple case (and in this assignment), these markers will be POS tags. However, they can also be morphosyntactic informative [categories](https://en.wikipedia.org/wiki/Combinatory_categorial_grammar) (supertags).\n",
    "\n",
    "In both cases, the task is a case of sequence labeling.  A good reference point is Jurafsky and Martin [Chapter 9](https://web.stanford.edu/~jurafsky/slp3/9.pdf). For a fuller view of the picture, a good reference point is Alex Graves' [dissertation](https://www.cs.toronto.edu/~graves/preprint.pdf).\n",
    "\n",
    "We will take a gradual approach, first inspecting recurrent neural networks, then moving on to data processing using high-grade word vectors before finally moving to the problem at hand. "
   ]
  },
  {
   "cell_type": "markdown",
   "metadata": {},
   "source": [
    "---"
   ]
  },
  {
   "cell_type": "markdown",
   "metadata": {},
   "source": [
    "## Recurrent Neural Networks\n",
    "Recurrent Neural Networks are a particularly interesting class of neural networks. Unlike standard fully-connected networks, which accept a fixed-size input and produce a fixed-size output over a predefined number of computational steps (i.e. network layers), RNNs instead operate on sequences of vectors. \n",
    "\n",
    "Computationally, feedforward networks may be seen as a trainable (but parametrically fixed) function, whereas RNNs act as continuous, stateful programs operating on sequences of inputs. \n",
    "Cognitively, this may be viewed as enhancing our system's perceptive and computational abilities with a notion of memory.\n",
    "In the general case, this statefulness is captured by an intermediate hidden vector which is adjusted throughout the computation, affected by both the immediately previous version of itself __and__ the current input.\n",
    "\n",
    "RNNs are nowadays established as the core machinery of neural sequence processing. \n",
    "\n",
    "A simple recurrent network (SRN or Elman network) is described by the equations:\n",
    "* $h_t = \\theta_h (W_h x_t + U_h h_{t-1} + b_h ) $\n",
    "* $y_t = \\theta_y (W_y h_t + b_y) $\n",
    "\n",
    "where (at timestep $t$) $x_t$, $h_t$, $y_t$ are the network's input, hidden and output representations respectively, $\\theta_h$, $\\theta_y$ its hidden and output activation functions, and $W_h$, $U_h$, $b_h$, $W_y$, $b_y$ parametric tensors to be learned."
   ]
  },
  {
   "cell_type": "code",
   "execution_count": 1,
   "metadata": {},
   "outputs": [],
   "source": [
    "import torch\n",
    "from torch import FloatTensor, LongTensor\n",
    "from typing import Tuple, List, Callable, Optional"
   ]
  },
  {
   "cell_type": "markdown",
   "metadata": {},
   "source": [
    "### Assignment 2.0: Our own SRN\n",
    "Let's make our own simple recurrent network from scratch, to get an idea of its inner workings. To make our life just a bit simpler, we will use `torch.nn.Linear` to model the internal transformations.\n",
    "\n",
    "Complete the `mySRN` class, which is initialized with the input $d_i$, hidden $d_h$ and output $d_o$ dimensionalities, as well as two non-linear functions $\\theta_h$ and $\\theta_y$, and constructs a SRN implementing three `torch.nn.Linear` layers:\n",
    "1. `x_to_h`: a layer that takes $x_t$ and produces $W_h x_t$\n",
    "2. `h_to_h`: a layer that takes $h_{t-1}$ and produces $U_h h_{t-1} + b_h$\n",
    "3. `h_to_y`: a layer that takes $h_t$ and produces $W_y h_t + b_y$\n",
    "\n",
    "Implement the function `step` that performs a computational step, accepting $x_t$ and $h_{t-1}$ and producing $h_t$ and $y_t$.\n",
    "\n",
    "Implement the function forward that accepts a List of inputs $X$, an initial hidden vector $h_{-1}$ and iteratively applies `step` until the input sequence is exhausted, returning a List of outputs $Y$ (of the same length as $X$).\n",
    "\n",
    "_Hint_: Note that `x_to_h` does not have a bias term $b$, since we will incorporate it into `h_to_h`"
   ]
  },
  {
   "cell_type": "code",
   "execution_count": 2,
   "metadata": {},
   "outputs": [
    {
     "name": "stdout",
     "output_type": "stream",
     "text": [
      "[tensor([[0., 0., 0.]], grad_fn=<ReluBackward0>), tensor([[0., 0., 0.]], grad_fn=<ReluBackward0>)]\n"
     ]
    }
   ],
   "source": [
    "class mySRN(torch.nn.Module):\n",
    "    def __init__(self, input_dim: int, hidden_dim: int, output_dim: int, \n",
    "                 hidden_activation: Callable[[FloatTensor], FloatTensor],\n",
    "                 output_activation: Callable[[FloatTensor], FloatTensor],\n",
    "                 device: str):\n",
    "        super(mySRN, self).__init__()\n",
    "        self.hidden_activation = hidden_activation\n",
    "        self.output_activation = output_activation\n",
    "        self.device = device\n",
    "        \n",
    "        self.x_to_h = torch.nn.Linear(in_features=input_dim, out_features=hidden_dim, bias=False)\n",
    "        self.h_to_h = torch.nn.Linear(in_features=hidden_dim, out_features=hidden_dim, bias=True)\n",
    "        self.h_to_y = torch.nn.Linear(in_features=hidden_dim, out_features=output_dim, bias=True)\n",
    "        \n",
    "    def step(self, x: FloatTensor, h: FloatTensor) -> Tuple[FloatTensor, FloatTensor]:\n",
    "        h_t = self.hidden_activation(self.x_to_h(x) + self.h_to_h(h))\n",
    "        y_t = self.output_activation(self.h_to_y(h_t))\n",
    "        return (h_t, y_t)\n",
    "        \n",
    "    def forward(self, X: List[FloatTensor], h: FloatTensor) -> List[FloatTensor]:\n",
    "        outputs = list()\n",
    "        h_t = h\n",
    "        for i in X:\n",
    "            h_t, y_t = self.step(i, h_t)\n",
    "            outputs.append(y_t)\n",
    "        return outputs\n",
    "    \n",
    "D = 3\n",
    "net = mySRN(D,D,D, torch.sigmoid, torch.relu, 'cpu')\n",
    "print (net.forward((torch.rand((1,D), device='cpu').float(),torch.rand((1,D), device='cpu').float()), torch.rand((1,D), device='cpu').float()))\n",
    "    "
   ]
  },
  {
   "cell_type": "markdown",
   "metadata": {},
   "source": [
    "In practice, we do not need to write our own functions for common RNN architectures. \n",
    "Torch already provides the [necessary abstractions](https://pytorch.org/docs/stable/nn.html#recurrent-layers).\n",
    "\n",
    "The [RNN](https://pytorch.org/docs/stable/nn.html#rnn) wrapper implements highly optimized forward routines to compute the hidden representations of a full input sequence.\n",
    "\n",
    "Some pointers:\n",
    "* Unlike our naive implementation, RNN accepts a 3-dimensional tensor of shape (seq_len, batch_shape, input_dim) rather than a list of 2-dimensional tensors\n",
    "* If no initial hidden state is provided, it defaults to a zero tensor\n",
    "* The class produces just the RNN hidden states; it is up to us to define the `h_to_y` transformation on top of them\n",
    "* The non-linearity argument is a string; our only two choices are either `'tanh'` or `'relu'` (shorthands for `torch.nn.Tanh` and `torch.nn.ReLU` respectively)\n",
    "\n",
    "Read the documentation (!) for further details.\n",
    "\n",
    "A brief example is given below."
   ]
  },
  {
   "cell_type": "code",
   "execution_count": 3,
   "metadata": {},
   "outputs": [
    {
     "name": "stdout",
     "output_type": "stream",
     "text": [
      "torch.Size([10, 32, 48])\n"
     ]
    }
   ],
   "source": [
    "rnn = torch.nn.RNN(input_size=16, hidden_size=48, nonlinearity='tanh')\n",
    "X = torch.rand(10, 32, 16)\n",
    "h, _ = rnn(X)\n",
    "print(h.shape)"
   ]
  },
  {
   "cell_type": "markdown",
   "metadata": {},
   "source": [
    "So, for a random input tensor of shape (seq_len, batch_size, input_dim), we get back an output tensor of shape (seq_len, batch_size, hidden_dim)"
   ]
  },
  {
   "cell_type": "code",
   "execution_count": 4,
   "metadata": {},
   "outputs": [],
   "source": [
    "del mySRN, rnn, X, h"
   ]
  },
  {
   "cell_type": "markdown",
   "metadata": {},
   "source": [
    "### Assignment 2.1: A faster version of the SRN\n",
    "Now let's wrap an `RNN` into a custom module `myFastSRN` that implements it aside the `h_to_y` transformation."
   ]
  },
  {
   "cell_type": "code",
   "execution_count": 5,
   "metadata": {},
   "outputs": [],
   "source": [
    "class fastSRN(torch.nn.Module):\n",
    "    def __init__(self, input_dim: int, hidden_dim: int, output_dim: int, \n",
    "                 hidden_activation: str,\n",
    "                 output_activation: Callable[[FloatTensor], FloatTensor],\n",
    "                 device: str):\n",
    "        super(fastSRN, self).__init__()\n",
    "        self.hidden = torch.nn.RNN(input_size=input_dim, hidden_size=hidden_dim, nonlinearity=hidden_activation)\n",
    "        self.output_activation = output_activation\n",
    "        self.h_to_y = torch.nn.Linear(in_features=hidden_dim, out_features=output_dim, bias=True)\n",
    "        \n",
    "    def forward(self, X:FloatTensor, h: Optional[FloatTensor]=None) -> FloatTensor:\n",
    "        h, _ = self.hidden(X, h)\n",
    "        y = self.output_activation(self.h_to_y(h))\n",
    "        return y\n"
   ]
  },
  {
   "cell_type": "markdown",
   "metadata": {},
   "source": [
    "Let's see our new implementation in action. \n",
    "\n",
    "Initialize a random input tensor $X$ that would correspond to 32 sequences,  each of length 10, with each item having 16 features, and a `fastSRN` fit to process it, producing 42-dimensional hidden states and 2-dimension output vectors for each sequence item.\n",
    "\n",
    "Run the SRN on the tensor and make sure the output shape is as expected."
   ]
  },
  {
   "cell_type": "code",
   "execution_count": 6,
   "metadata": {},
   "outputs": [
    {
     "name": "stdout",
     "output_type": "stream",
     "text": [
      "torch.Size([10, 32, 2])\n"
     ]
    }
   ],
   "source": [
    "I = 16  # input dimension\n",
    "H = 42  # hidden dimension\n",
    "O = 2   # output dimension\n",
    "L = 10  # sequence length\n",
    "B = 32  # batch size\n",
    "net = fastSRN(I,H,O, 'tanh', torch.relu, 'cpu')\n",
    "output = net(torch.rand(L, B, I))\n",
    "print(output.shape)"
   ]
  },
  {
   "cell_type": "markdown",
   "metadata": {},
   "source": [
    "Hopefully everything should be in order.\n",
    "\n",
    "You may have noticed a minor complication: in order to utilize batching, we need our input sequences to be of the same length.\n",
    "\n",
    "This however is very rarely the case in practice. A common trick against this problem is _padding_; that is, appending zero tensors to all input sequences shorter than the maximum in-batch length to make them all equally long.\n",
    "\n",
    "As usual, torch already does the hard work for us via [pad_sequence](https://pytorch.org/docs/stable/nn.html?highlight=pad%20_sequence#torch.nn.utils.rnn.pad_sequence). Given a list of $N$ 2-dimensional tensors, each of shape (seq_len$_n$, input_dim), it will construct a 3-d tensor of shape ($max_{n \\in N}${seq_len$_n$}, N, input_dim).\n",
    "\n",
    "An example:"
   ]
  },
  {
   "cell_type": "code",
   "execution_count": 7,
   "metadata": {},
   "outputs": [
    {
     "name": "stdout",
     "output_type": "stream",
     "text": [
      "torch.Size([7, 3, 16])\n"
     ]
    }
   ],
   "source": [
    "x_1 = torch.rand(1, 16)  # a sequence of 1, 16-dimensional item\n",
    "x_2 = torch.rand(7, 16)  # a sequence of 7, 16-dimensional items\n",
    "x_3 = torch.rand(5, 16)  # a sequence of 5, 16-dimensional items\n",
    "\n",
    "X = torch.nn.utils.rnn.pad_sequence([x_1, x_2, x_3])  \n",
    "\n",
    "# Can you guess what the shape of X is?\n",
    "print(X.shape)"
   ]
  },
  {
   "cell_type": "code",
   "execution_count": 8,
   "metadata": {},
   "outputs": [],
   "source": [
    "del x_1, x_2, x_3, X"
   ]
  },
  {
   "cell_type": "markdown",
   "metadata": {},
   "source": [
    "## Pretrained Word Embeddings\n",
    "Moving on-- last assignment, we saw how to train our own word embeddings using a miniature toy corpus. Now, we will see how to easily employ high-quality pretrained word vectors and, later on, how to utilize them for further downstream tasks.\n",
    "\n",
    "We are going to use [spaCy](https://spacy.io/). SpaCy is a high-level NLP library that provides a ton of useful functionalities, but we will only focus on its pretrained embeddings for this assignment.\n",
    "\n",
    "Before proceeding, [install spacy](https://spacy.io/usage) using your python package manager (e.g. `pip install spacy`)."
   ]
  },
  {
   "cell_type": "code",
   "execution_count": 9,
   "metadata": {},
   "outputs": [],
   "source": [
    "import spacy"
   ]
  },
  {
   "cell_type": "markdown",
   "metadata": {},
   "source": [
    "SpaCy comes with a lot of different-size models for different languages. \n",
    "\n",
    "We will need to download the small english model for the exercises to follow. You can either do it on a new terminal window (optimal, if you are running this assignment through a virtual environment) or by simply running the magic command below. "
   ]
  },
  {
   "cell_type": "code",
   "execution_count": 10,
   "metadata": {},
   "outputs": [
    {
     "name": "stdout",
     "output_type": "stream",
     "text": [
      "Requirement already satisfied: en_core_web_lg==2.2.0 from https://github.com/explosion/spacy-models/releases/download/en_core_web_lg-2.2.0/en_core_web_lg-2.2.0.tar.gz#egg=en_core_web_lg==2.2.0 in c:\\users\\riccardo\\anaconda3\\lib\\site-packages (2.2.0)\n",
      "Requirement already satisfied: spacy>=2.2.0 in c:\\users\\riccardo\\anaconda3\\lib\\site-packages (from en_core_web_lg==2.2.0) (2.2.1)\n",
      "Requirement already satisfied: srsly<1.1.0,>=0.1.0 in c:\\users\\riccardo\\anaconda3\\lib\\site-packages (from spacy>=2.2.0->en_core_web_lg==2.2.0) (0.1.0)\n",
      "Requirement already satisfied: wasabi<1.1.0,>=0.2.0 in c:\\users\\riccardo\\anaconda3\\lib\\site-packages (from spacy>=2.2.0->en_core_web_lg==2.2.0) (0.2.2)\n",
      "Requirement already satisfied: murmurhash<1.1.0,>=0.28.0 in c:\\users\\riccardo\\anaconda3\\lib\\site-packages (from spacy>=2.2.0->en_core_web_lg==2.2.0) (1.0.2)\n",
      "Requirement already satisfied: plac<1.0.0,>=0.9.6 in c:\\users\\riccardo\\anaconda3\\lib\\site-packages (from spacy>=2.2.0->en_core_web_lg==2.2.0) (0.9.6)\n",
      "Requirement already satisfied: preshed<3.1.0,>=3.0.2 in c:\\users\\riccardo\\anaconda3\\lib\\site-packages (from spacy>=2.2.0->en_core_web_lg==2.2.0) (3.0.2)\n",
      "Requirement already satisfied: thinc<7.2.0,>=7.1.1 in c:\\users\\riccardo\\anaconda3\\lib\\site-packages (from spacy>=2.2.0->en_core_web_lg==2.2.0) (7.1.1)\n",
      "Requirement already satisfied: cymem<2.1.0,>=2.0.2 in c:\\users\\riccardo\\anaconda3\\lib\\site-packages (from spacy>=2.2.0->en_core_web_lg==2.2.0) (2.0.2)\n",
      "Requirement already satisfied: numpy>=1.15.0 in c:\\users\\riccardo\\anaconda3\\lib\\site-packages (from spacy>=2.2.0->en_core_web_lg==2.2.0) (1.16.4)\n",
      "Requirement already satisfied: blis<0.5.0,>=0.4.0 in c:\\users\\riccardo\\anaconda3\\lib\\site-packages (from spacy>=2.2.0->en_core_web_lg==2.2.0) (0.4.1)\n",
      "Requirement already satisfied: requests<3.0.0,>=2.13.0 in c:\\users\\riccardo\\anaconda3\\lib\\site-packages (from spacy>=2.2.0->en_core_web_lg==2.2.0) (2.22.0)\n",
      "Requirement already satisfied: tqdm<5.0.0,>=4.10.0 in c:\\users\\riccardo\\anaconda3\\lib\\site-packages (from thinc<7.2.0,>=7.1.1->spacy>=2.2.0->en_core_web_lg==2.2.0) (4.32.1)\n",
      "Requirement already satisfied: certifi>=2017.4.17 in c:\\users\\riccardo\\anaconda3\\lib\\site-packages (from requests<3.0.0,>=2.13.0->spacy>=2.2.0->en_core_web_lg==2.2.0) (2019.6.16)\n",
      "Requirement already satisfied: chardet<3.1.0,>=3.0.2 in c:\\users\\riccardo\\anaconda3\\lib\\site-packages (from requests<3.0.0,>=2.13.0->spacy>=2.2.0->en_core_web_lg==2.2.0) (3.0.4)\n",
      "Requirement already satisfied: urllib3!=1.25.0,!=1.25.1,<1.26,>=1.21.1 in c:\\users\\riccardo\\anaconda3\\lib\\site-packages (from requests<3.0.0,>=2.13.0->spacy>=2.2.0->en_core_web_lg==2.2.0) (1.24.2)\n",
      "Requirement already satisfied: idna<2.9,>=2.5 in c:\\users\\riccardo\\anaconda3\\lib\\site-packages (from requests<3.0.0,>=2.13.0->spacy>=2.2.0->en_core_web_lg==2.2.0) (2.8)\n",
      "[+] Download and installation successful\n",
      "You can now load the model via spacy.load('en_core_web_lg')\n"
     ]
    }
   ],
   "source": [
    "!python -m spacy download en_core_web_lg"
   ]
  },
  {
   "cell_type": "markdown",
   "metadata": {},
   "source": [
    "After having downloaded the model, we can load it as follows (you may need to restart your notebook after the download is complete):"
   ]
  },
  {
   "cell_type": "code",
   "execution_count": 11,
   "metadata": {},
   "outputs": [],
   "source": [
    "nlp = spacy.load('en_core_web_lg')"
   ]
  },
  {
   "cell_type": "markdown",
   "metadata": {},
   "source": [
    "We can then use the loaded model to process a sentence and obtain its word vectors, a List of 300-dimensional numpy arrays."
   ]
  },
  {
   "cell_type": "code",
   "execution_count": 12,
   "metadata": {},
   "outputs": [
    {
     "name": "stdout",
     "output_type": "stream",
     "text": [
      "We have 7 vectors..\n",
      "..each of shape (300,)\n"
     ]
    }
   ],
   "source": [
    "doc = nlp('this is a sentence of 7 words')  # the processed sentence\n",
    "vectors = list(map(lambda x: x.vector, doc))  # its vectors\n",
    "print('We have {} vectors..'.format(len(vectors)))\n",
    "print('..each of shape {}'.format(vectors[0].shape))"
   ]
  },
  {
   "cell_type": "markdown",
   "metadata": {},
   "source": [
    "And then finally convert them into torch tensors."
   ]
  },
  {
   "cell_type": "code",
   "execution_count": 13,
   "metadata": {},
   "outputs": [
    {
     "name": "stdout",
     "output_type": "stream",
     "text": [
      "torch.Size([7, 300])\n"
     ]
    }
   ],
   "source": [
    "torch_vectors = torch.tensor(vectors)\n",
    "print(torch_vectors.shape)"
   ]
  },
  {
   "cell_type": "markdown",
   "metadata": {},
   "source": [
    "Or, in the case of multiple sentences:"
   ]
  },
  {
   "cell_type": "code",
   "execution_count": 14,
   "metadata": {},
   "outputs": [],
   "source": [
    "# Example sentences\n",
    "sentences = ['This is a sentence', 'This is another sentence.']\n",
    "\n",
    "# Parallel processing with spacy\n",
    "docs = list(map(nlp, sentences))\n",
    "\n",
    "# Convert each processed sentence into a list of vectors\n",
    "vectors = map(lambda doc: [word.vector for word in doc], docs)\n",
    "\n",
    "# Convert each list of vectors into a 2-d torch tensor\n",
    "tensors = list(map(lambda sentence_vectors: torch.tensor(sentence_vectors), vectors))"
   ]
  },
  {
   "cell_type": "markdown",
   "metadata": {},
   "source": [
    "## POS Tagging\n",
    "Given our pretrained embeddings, we may represent sentences as _sequences of vectors_, which is exactly the format expected by an RNN.\n",
    "We will now try to train an SRN to iterate over a sentence and assign part of speech tags to each of its words."
   ]
  },
  {
   "cell_type": "markdown",
   "metadata": {},
   "source": [
    "### Assignment 2.2: Why use an RNN?\n",
    "In the context of POS tagging, what is the advantage of using a recurrent network over a feedforward network that processes each word individually?"
   ]
  },
  {
   "cell_type": "markdown",
   "metadata": {},
   "source": [
    "Using a recurrent network allows information about the whole sequence (i.e. sentence) to be exploited, then being able to assign a tag to a word depending not only on the word itslef, but also on the context where it occurs. Moreovers, the RNN architecture does not impose a fixed-length limit on the context, as sliding window approaches do.\n",
    "By introducing this particular form of memory, recurrent networks deal directly with the temporal aspect of language, and they have shown to perform better in POS tagging than traditional feedforward network."
   ]
  },
  {
   "cell_type": "markdown",
   "metadata": {},
   "source": [
    "\n",
    "First, let's load and inspect our datafiles.\n",
    "\n",
    "The pickle file contains three items:\n",
    "1. `sentences`: a List of strings (-sentences)\n",
    "1. `postags`: a List of Lists of strings (-POS tags)\n",
    "2. `pos_to_int`: a Dictionary from strings to ints (mapping each POS tag to a unique identifier)\n",
    " "
   ]
  },
  {
   "cell_type": "code",
   "execution_count": 15,
   "metadata": {},
   "outputs": [
    {
     "data": {
      "text/plain": [
       "<Figure size 640x480 with 1 Axes>"
      ]
     },
     "metadata": {},
     "output_type": "display_data"
    },
    {
     "name": "stdout",
     "output_type": "stream",
     "text": [
      "244\n",
      "In an Oct. 19 review of The Misanthrope at Chicago 's Goodman Theatre -LRB- Revitalized Classics Take the Stage in Windy City , Leisure & Arts -RRB- , the role of Celimene , played by Kim Cattrall , was mistakenly attributed to Christina Haag .\n"
     ]
    }
   ],
   "source": [
    "import pickle\n",
    "import itertools\n",
    "from collections import Counter\n",
    "import matplotlib.pyplot as plt\n",
    "import numpy as np\n",
    "with open('TRAIN.p', 'rb') as f:\n",
    "    sentences, postags, pos_to_int = pickle.load(f)\n",
    "    flattened_postags = list(itertools.chain(*postags))  # flatten the list\n",
    "    tags, occurrences = zip(*dict(Counter(flattened_postags).most_common(20)).items()) #extract the 20 most common tags  \n",
    "    width = 0.5\n",
    "    plt.bar(tags, occurrences, width)\n",
    "    plt.xticks(rotation=60)\n",
    "    plt.show()\n",
    "print(len(sentences[0]))\n",
    "print(sentences[0])\n"
   ]
  },
  {
   "cell_type": "markdown",
   "metadata": {},
   "source": [
    "Now, let us take a moment to understand the data a bit more. \n",
    "The POS tags in this dataset are in the style of the Penn Treebank. Find the top 20 most common tags and plot a histogram of their frequencies. Find out what these tags mean linguisically! https://www.ling.upenn.edu/courses/Fall_2003/ling001/penn_treebank_pos.html"
   ]
  },
  {
   "cell_type": "markdown",
   "metadata": {},
   "source": [
    "Next, we need to convert our data to numeric form."
   ]
  },
  {
   "cell_type": "markdown",
   "metadata": {},
   "source": [
    "### Assignment 2.3: Tensorizing sentences\n",
    "Convert sentences to their tensor format, as done earlier (this may take a while). \n",
    "\n",
    "<div class=\"alert alert-block alert-warning\">\n",
    "<b>Important!</b>\n",
    "Since the sentences are pre-tokenized (i.e. they are provided as sequences of words rather than strings), we need to change the processing call to ensure the output vectors are aligned with our tokenization.\n",
    "</div>"
   ]
  },
  {
   "cell_type": "code",
   "execution_count": 16,
   "metadata": {},
   "outputs": [],
   "source": [
    "docs = list(map(lambda sentence: \n",
    "                spacy.tokens.doc.Doc(nlp.vocab, words=sentence.split()), \n",
    "            sentences))\n",
    "\n",
    "doc_vectors = map(lambda doc: [word.vector for word in doc], docs)\n",
    "doc_tensors = list(map(lambda sentence_vectors: torch.tensor(sentence_vectors), doc_vectors))\n",
    "\n",
    "# We no longer need the docs and numpy arrays\n",
    "del doc_vectors, docs"
   ]
  },
  {
   "cell_type": "markdown",
   "metadata": {},
   "source": [
    "Similarly, we will use `pos_to_int` to convert the POS sequences into tensors."
   ]
  },
  {
   "cell_type": "code",
   "execution_count": 17,
   "metadata": {},
   "outputs": [
    {
     "name": "stdout",
     "output_type": "stream",
     "text": [
      "30197\n",
      "torch.Size([45, 300])\n"
     ]
    }
   ],
   "source": [
    "print(len(doc_tensors))\n",
    "print(doc_tensors[0].shape)\n",
    "\n",
    "pos_numeric = list(map(lambda pos_sequence: [pos_to_int[pos] for pos in pos_sequence], postags))\n",
    "pos_tensors =  list(map(lambda pos_num_sequence: torch.tensor(pos_num_sequence), pos_numeric))"
   ]
  },
  {
   "cell_type": "markdown",
   "metadata": {},
   "source": [
    "In the first assignment, we saw how to split our dataset into a training and a validation set. \n",
    "\n",
    "Do the same here, splitting the sentences, postags and their corresponding tensors into a training and a validation set."
   ]
  },
  {
   "cell_type": "code",
   "execution_count": 18,
   "metadata": {},
   "outputs": [],
   "source": [
    "from sklearn.model_selection import train_test_split\n",
    "sentences_train, sentences_val, postags_train, postags_val, X_train, X_val, Y_train, Y_val \\\n",
    "    =  train_test_split(sentences, postags, doc_tensors, pos_tensors, test_size=0.2)\n",
    "assert len(X_train) == len(Y_train) == len(sentences_train)\n",
    "assert len(X_val) == len(Y_val) == len(sentences_val)"
   ]
  },
  {
   "cell_type": "markdown",
   "metadata": {},
   "source": [
    "Again, following along the first assignment, we will wrap our tensors into a `Dataset` and a `DataLoader`.\n",
    "\n",
    "Since our data are not Tensors but rather Lists of Tensors of uneven lengths, we need to write our own Dataset wrapper.\n",
    "The wrapper only needs to implement two functions; `__len__`, which expects no arguments and returns the number of samples in the dataset, and `__getitem__`, which accepts an index `idx` and returns the input-output pair `X[idx]`, `Y[idx]`.\n",
    "\n",
    "Similarly, the Dataloader needs to process the list of input-output pairs produced by the Dataset using `pad_sequence`, as seen earlier."
   ]
  },
  {
   "cell_type": "markdown",
   "metadata": {},
   "source": [
    "### Assignment 2.4: Padding\n",
    "#### a) What is the advantage to applying padding on the batch rather than the entire dataset?"
   ]
  },
  {
   "cell_type": "markdown",
   "metadata": {},
   "source": [
    "Given that padding changes the sequences so they are all the same length as the longest sequence, doing this for the entire data set changes the lengths of all sequences to the length of the longest sequence of the overall data set. If this is a particularly large sequence, then a lot of space is unnecessarily used for the padding of the other sequences. When applying padding to batches, this extensive padding for the longest sequence will only be applied to that one batch."
   ]
  },
  {
   "cell_type": "markdown",
   "metadata": {},
   "source": [
    "#### b) Fill in the code for `UnevenLengthDataset` class, implementing its two core functions.\n",
    "\n",
    "Then, complete the function `pad_batch` which takes a list of (x$_i$, y$_i$) pairs and produces the pair of their paddings: (X, Y).\n",
    "\n",
    "Given the two, the `DataLoader` object defined can iterate over the Dataset yielding uniform batches ready to be consumed by an RNN."
   ]
  },
  {
   "cell_type": "code",
   "execution_count": 19,
   "metadata": {},
   "outputs": [],
   "source": [
    "from torch.nn.utils.rnn import pad_sequence\n",
    "from torch.utils.data import Dataset, DataLoader\n",
    "\n",
    "\n",
    "class UnevenLengthDataset(Dataset):\n",
    "    def __init__(self, X: List[FloatTensor], Y: List[LongTensor]) -> None:\n",
    "        super(UnevenLengthDataset, self).__init__()\n",
    "        self.X = X\n",
    "        self.Y = Y\n",
    "        \n",
    "    def __len__(self) -> int:\n",
    "        return len(self.X)\n",
    "        \n",
    "    def __getitem__(self, idx: int) -> Tuple[FloatTensor, LongTensor]:\n",
    "        return (self.X[idx], self.Y[idx])\n",
    "    \n",
    "    \n",
    "def pad_batch(batch: List[Tuple[FloatTensor, LongTensor]]) -> Tuple[FloatTensor, LongTensor]:\n",
    "    x = [i for i,j in batch]\n",
    "    y = [j for i,j in batch]         \n",
    "    padded_x = torch.nn.utils.rnn.pad_sequence(x)\n",
    "    padded_y = torch.nn.utils.rnn.pad_sequence(y)\n",
    "    return (padded_x, padded_y)\n",
    "        \n",
    "train_dataset = UnevenLengthDataset(X_train, Y_train)\n",
    "train_dataloader = DataLoader(train_dataset, \n",
    "                              collate_fn=pad_batch,\n",
    "                              shuffle=True,\n",
    "                              batch_size=32)\n",
    "\n",
    "val_dataset = UnevenLengthDataset(X_val, Y_val)\n",
    "val_dataloader = DataLoader(val_dataset,\n",
    "                            collate_fn=pad_batch,\n",
    "                            shuffle=False,\n",
    "                            batch_size=32)"
   ]
  },
  {
   "cell_type": "markdown",
   "metadata": {},
   "source": [
    "What does a batch look like, shape-wise?"
   ]
  },
  {
   "cell_type": "code",
   "execution_count": 20,
   "metadata": {},
   "outputs": [
    {
     "name": "stdout",
     "output_type": "stream",
     "text": [
      "torch.Size([51, 32, 300])\n",
      "torch.Size([51, 32])\n"
     ]
    }
   ],
   "source": [
    "for batch_x, batch_y in train_dataloader:\n",
    "    print(batch_x.shape)\n",
    "    print(batch_y.shape)\n",
    "    break"
   ]
  },
  {
   "cell_type": "code",
   "execution_count": null,
   "metadata": {},
   "outputs": [],
   "source": []
  },
  {
   "cell_type": "markdown",
   "metadata": {},
   "source": [
    "So far so good. On to the network.\n",
    "\n",
    "### Assignment 2.5: Utility Functions\n",
    "Remember how we defined our training and validation functions for the first assignment?\n",
    "\n",
    "You will need to do the same here.\n",
    "Note that while you can use the given code as a guideline, just copying it won't do the trick; unlike a feedforward net, a recurrent network produces a 3rd order output tensor, of shape (max_seq_len, batch_size, num_output_classes).\n",
    "\n",
    "Similarly, our target Y is a 2nd order tensor of shape (max_seq_len, batch_size).\n",
    "\n",
    "You will need to properly treat the extra dimensional of both the output and the target, since loss functions expect an order 2 output tensor and an order 1 target tensor. \n",
    "\n",
    "Complete the functions `train_batch`, `train_epoch`, `eval_batch` and `eval_epoch`."
   ]
  },
  {
   "cell_type": "code",
   "execution_count": 21,
   "metadata": {},
   "outputs": [],
   "source": [
    "def accuracy(predictions: LongTensor, truth: LongTensor, ignore_idx: int) -> Tuple[int, int]:\n",
    "    \"\"\"\n",
    "        Given a tensor containing the network's predictions and a tensor containing the true values, as well\n",
    "        as an output value to ignore (e.g. the padding value), computes and returns the total count of non-\n",
    "        ignored values as well the total count of correctly predicted values.\n",
    "        \n",
    "        predictions: The network's predictions.\n",
    "        truth: The true output labels.\n",
    "        ignore_idx: The output padding value, to be ignored in accuracy calculation.\n",
    "    \"\"\"\n",
    "    \n",
    "    correct_words = torch.ones(predictions.size())\n",
    "    correct_words[predictions != truth] = 0\n",
    "    correct_words[truth == ignore_idx] = 1\n",
    "\n",
    "    num_correct_words = correct_words.sum().item()\n",
    "    num_masked_words = len(truth[truth == ignore_idx])\n",
    "\n",
    "    return predictions.shape[0] * predictions.shape[1] - num_masked_words, num_correct_words - num_masked_words\n",
    "\n",
    "\n",
    "def measure_accuracy(network: torch.nn.Module,\n",
    "                    dataloader: DataLoader,\n",
    "                    device: str) -> float:\n",
    "    \"\"\"\n",
    "        Given a network, a dataloader and a device, iterates over the dataset and returns the network's accuracy.\n",
    "    \"\"\"\n",
    "    correct = 0\n",
    "    total = 0\n",
    "    for x_batch, y_batch in dataloader:\n",
    "        pred = network(x_batch.to(device))\n",
    "        local_total, local_correct = accuracy(pred.argmax(dim=-1), y_batch.to(device), ignore_idx=0)\n",
    "        correct+= local_correct\n",
    "        total+= local_total\n",
    "    return correct/total\n",
    "    \n",
    "\n",
    "def train_batch(network: torch.nn.Module,\n",
    "                X_batch: FloatTensor,\n",
    "                Y_batch: LongTensor,\n",
    "                loss_fn: Callable[[FloatTensor, FloatTensor], FloatTensor],  \n",
    "                optimizer: torch.optim.Optimizer) -> float:\n",
    "    \n",
    "    network.train()\n",
    "    \n",
    "    prediction_batch = network(X_batch)  # forward pass\n",
    "#     prediction_batch = prediction_batch.transpose(0,1)\n",
    "#     prediction_batch = prediction_batch.transpose(1,2)\n",
    "    batch_loss = torch.zeros((1), device='cpu')\n",
    "    for i,k in enumerate(prediction_batch):\n",
    "        pb = prediction_batch[i]\n",
    "        a = loss_fn(pb, Y_batch[i])  # loss calculation\n",
    "        batch_loss += a\n",
    "\n",
    "    batch_loss.backward()  # gradient computation\n",
    "    optimizer.step()  # back-propagation\n",
    "    optimizer.zero_grad()  # gradient reset\n",
    "    return batch_loss.item()\n",
    "\n",
    "def train_epoch(network: torch.nn.Module, \n",
    "                dataloader: DataLoader,\n",
    "                loss_fn: Callable[[FloatTensor, FloatTensor], FloatTensor],\n",
    "                optimizer: torch.optim.Optimizer, \n",
    "                device: str) -> float:\n",
    "    \n",
    "    loss = 0.\n",
    "    for i, (x_batch, y_batch) in enumerate(dataloader):\n",
    "        loss += train_batch(network=network, X_batch=x_batch, Y_batch=y_batch, loss_fn=loss_fn, optimizer=optimizer)\n",
    "    loss /= (i+1) # divide loss by number of batches for consistency \n",
    "    return loss\n",
    "\n",
    "def eval_batch(network: torch.nn.Module,\n",
    "                X_batch: FloatTensor,\n",
    "                Y_batch: LongTensor,\n",
    "                loss_fn: Callable[[FloatTensor, LongTensor], FloatTensor]) -> float:\n",
    "    \n",
    "    network.eval()\n",
    "    with torch.no_grad():\n",
    "        prediction_batch = network(X_batch)  # forward pass\n",
    "#         prediction_batch = prediction_batch.transpose(0,1)\n",
    "#         prediction_batch = prediction_batch.transpose(1,2)\n",
    "        batch_loss = 0.\n",
    "        for i,k in enumerate(prediction_batch):\n",
    "            pb = prediction_batch[i]\n",
    "            batch_loss += loss_fn(pb, Y_batch[i])   # loss calculation    \n",
    "    return batch_loss\n",
    "\n",
    "def eval_epoch(network: torch.nn.Module, \n",
    "                # a list of data points x\n",
    "                dataloader: DataLoader,\n",
    "                loss_fn: Callable[[FloatTensor, LongTensor], FloatTensor],\n",
    "                device: str) -> float:\n",
    "    \n",
    "    loss = 0.\n",
    "    for i, (x_batch, y_batch) in enumerate(dataloader):\n",
    "        loss += eval_batch(network, x_batch, y_batch, loss_fn)\n",
    "    loss /= (i+1) # divide loss by number of batches for consistency \n",
    "        \n",
    "    return loss"
   ]
  },
  {
   "cell_type": "markdown",
   "metadata": {},
   "source": [
    "### Assignment 2.6: SRN POS tagging\n",
    "Define a simple recurrent network, with input size compatible with the vector dimensionality, output size compatible with the number of output classes (the number of different POS tags + 1) and a hidden size of your own choice. What is a reasonale choice?"
   ]
  },
  {
   "cell_type": "markdown",
   "metadata": {},
   "source": [
    "#### a) Why do we need to add 1 to the number of output classes?"
   ]
  },
  {
   "cell_type": "markdown",
   "metadata": {},
   "source": [
    "_your answer here_"
   ]
  },
  {
   "cell_type": "markdown",
   "metadata": {},
   "source": [
    "#### b) Implementation\n",
    "\n",
    "Use `\"tanh\"` as your hidden layer activation, and choose **an appropriate combination of output activation and loss function** (consider the task at hand, and refer to the documentation if in doubt- refer to tutorial as well!).\n",
    "\n",
    "Then instantiate an optimizer over your network, and train it for a number of epochs, measuring and printing all metrics in the process (train and validation loss and accuracy).\n",
    "\n",
    "_Hint_: Use `measure_accuracy` (defined earlier) to obtain accuracy.\n",
    "\n",
    "Plot the loss curves over the training process."
   ]
  },
  {
   "cell_type": "code",
   "execution_count": 22,
   "metadata": {},
   "outputs": [],
   "source": [
    "I = 300\n",
    "H = 250\n",
    "O = len(pos_to_int) + 1\n",
    "srn = fastSRN(I,H,O, 'tanh', torch.nn.LogSoftmax(dim=2), 'cpu')\n",
    "opt = torch.optim.Adam(srn.parameters(), lr=0.001)\n",
    "loss_fn = torch.nn.NLLLoss()"
   ]
  },
  {
   "cell_type": "code",
   "execution_count": null,
   "metadata": {},
   "outputs": [
    {
     "name": "stdout",
     "output_type": "stream",
     "text": [
      "Epoch 0\n",
      " Training Loss: 18.542120168066972\n",
      " Validation Loss: 7.243185520172119\n",
      " Training Accuracy: 0.9087315343927178\n",
      " Validation Accuracy: 0.90698217541322\n",
      "Epoch 1\n",
      " Training Loss: 6.174384957433537\n",
      " Validation Loss: 5.501826763153076\n",
      " Training Accuracy: 0.9297440255862586\n",
      " Validation Accuracy: 0.9262682879054981\n",
      "Epoch 2\n",
      " Training Loss: 5.033971514922894\n",
      " Validation Loss: 4.8428263664245605\n",
      " Training Accuracy: 0.9382224558186\n",
      " Validation Accuracy: 0.9327020144947189\n",
      "Epoch 3\n",
      " Training Loss: 4.439389055769965\n",
      " Validation Loss: 4.446720123291016\n",
      " Training Accuracy: 0.9445854720448505\n",
      " Validation Accuracy: 0.9370639907185584\n",
      "Epoch 4\n",
      " Training Loss: 4.026300308720166\n",
      " Validation Loss: 4.318149566650391\n",
      " Training Accuracy: 0.9471034670424089\n",
      " Validation Accuracy: 0.937870089951634\n",
      "Epoch 5\n",
      " Training Loss: 3.722012827412182\n",
      " Validation Loss: 4.052270889282227\n",
      " Training Accuracy: 0.9517163742363076\n",
      " Validation Accuracy: 0.9416143078847052\n",
      "Epoch 6\n",
      " Training Loss: 3.4719348386423476\n",
      " Validation Loss: 3.932302951812744\n",
      " Training Accuracy: 0.9553861981816758\n",
      " Validation Accuracy: 0.9434148472931639\n",
      "Epoch 7\n",
      " Training Loss: 3.2362663647986407\n",
      " Validation Loss: 3.9179468154907227\n",
      " Training Accuracy: 0.9572183144530304\n",
      " Validation Accuracy: 0.9429176272054725\n",
      "Epoch 8\n",
      " Training Loss: 3.0465825868758145\n",
      " Validation Loss: 3.822228193283081\n",
      " Training Accuracy: 0.9618424044522476\n",
      " Validation Accuracy: 0.9444017538308548\n",
      "Epoch 9\n",
      " Training Loss: 2.8527647315271643\n",
      " Validation Loss: 3.8521456718444824\n",
      " Training Accuracy: 0.9632048429002232\n",
      " Validation Accuracy: 0.9438894664677786\n",
      "Epoch 10\n",
      " Training Loss: 2.6659237613741134\n",
      " Validation Loss: 3.8330094814300537\n",
      " Training Accuracy: 0.9664049890222127\n",
      " Validation Accuracy: 0.9447709020777773\n",
      "Epoch 11\n",
      " Training Loss: 2.496694703923156\n",
      " Validation Loss: 3.880200147628784\n",
      " Training Accuracy: 0.968376890360049\n",
      " Validation Accuracy: 0.9442510810770088\n",
      "Epoch 12\n",
      " Training Loss: 2.3302451624775564\n",
      " Validation Loss: 3.9055263996124268\n",
      " Training Accuracy: 0.9713925201942826\n",
      " Validation Accuracy: 0.9446578975123928\n",
      "Epoch 13\n",
      " Training Loss: 2.173748494299832\n",
      " Validation Loss: 4.026927947998047\n",
      " Training Accuracy: 0.9731500844301801\n",
      " Validation Accuracy: 0.9440401392216246\n",
      "Epoch 14\n",
      " Training Loss: 2.0170434158369406\n",
      " Validation Loss: 4.047677993774414\n",
      " Training Accuracy: 0.9759196925474057\n",
      " Validation Accuracy: 0.9437387937139327\n",
      "Epoch 15\n",
      " Training Loss: 1.8811772276234153\n",
      " Validation Loss: 4.151235580444336\n",
      " Training Accuracy: 0.977539335517708\n",
      " Validation Accuracy: 0.9430682999593184\n",
      "Epoch 16\n",
      " Training Loss: 1.746005588098867\n",
      " Validation Loss: 4.2630767822265625\n",
      " Training Accuracy: 0.9797665775769843\n",
      " Validation Accuracy: 0.9414561014931669\n",
      "Epoch 17\n",
      " Training Loss: 1.6313252233511564\n",
      " Validation Loss: 4.421945095062256\n",
      " Training Accuracy: 0.9797423481654608\n",
      " Validation Accuracy: 0.9406500022600913\n",
      "Epoch 18\n",
      " Training Loss: 1.5098605376205696\n",
      " Validation Loss: 4.4893412590026855\n",
      " Training Accuracy: 0.9826927449686695\n",
      " Validation Accuracy: 0.941787581551628\n",
      "Epoch 19\n",
      " Training Loss: 1.4052336367550275\n",
      " Validation Loss: 4.643674373626709\n",
      " Training Accuracy: 0.9836265092127677\n",
      " Validation Accuracy: 0.9410266841447061\n",
      "Epoch 20\n",
      " Training Loss: 1.304358716200519\n",
      " Validation Loss: 4.731451988220215\n",
      " Training Accuracy: 0.985356116435369\n",
      " Validation Accuracy: 0.9402582531000919\n",
      "Epoch 21\n",
      " Training Loss: 1.2195613605297164\n",
      " Validation Loss: 4.83595085144043\n",
      " Training Accuracy: 0.9858872996879997\n",
      " Validation Accuracy: 0.9402130512739382\n",
      "Epoch 22\n",
      " Training Loss: 1.145117767915031\n",
      " Validation Loss: 4.996634006500244\n",
      " Training Accuracy: 0.9869067987728735\n",
      " Validation Accuracy: 0.9401226476216306\n",
      "Epoch 23\n",
      " Training Loss: 1.0851795546266416\n",
      " Validation Loss: 5.162881374359131\n",
      " Training Accuracy: 0.9868303829365301\n",
      " Validation Accuracy: 0.9381036327200952\n",
      "Epoch 24\n",
      " Training Loss: 1.0113507633967116\n",
      " Validation Loss: 5.236302375793457\n",
      " Training Accuracy: 0.9883195598447827\n",
      " Validation Accuracy: 0.9385707182570175\n",
      "Epoch 25\n",
      " Training Loss: 0.9681036649950293\n",
      " Validation Loss: 5.381823539733887\n",
      " Training Accuracy: 0.9888805639115962\n",
      " Validation Accuracy: 0.9385631846193253\n",
      "Epoch 26\n",
      " Training Loss: 0.9221479213790388\n",
      " Validation Loss: 5.498721599578857\n",
      " Training Accuracy: 0.9888265136858899\n",
      " Validation Accuracy: 0.9390754719824014\n",
      "Epoch 27\n",
      " Training Loss: 0.8775465343566919\n",
      " Validation Loss: 5.515626907348633\n",
      " Training Accuracy: 0.9903026439879374\n",
      " Validation Accuracy: 0.9388117946631711\n",
      "Epoch 28\n",
      " Training Loss: 0.8286644005222826\n",
      " Validation Loss: 5.791788101196289\n",
      " Training Accuracy: 0.9895943996510965\n",
      " Validation Accuracy: 0.9387289246485558\n",
      "Epoch 29\n",
      " Training Loss: 0.8040955916343145\n",
      " Validation Loss: 5.817693710327148\n",
      " Training Accuracy: 0.9904275186473279\n",
      " Validation Accuracy: 0.9382392381985566\n",
      "Epoch 30\n",
      " Training Loss: 0.797373753786087\n",
      " Validation Loss: 5.894721031188965\n",
      " Training Accuracy: 0.9898273747618994\n",
      " Validation Accuracy: 0.9377043499224035\n",
      "Epoch 31\n",
      " Training Loss: 0.7617312381204391\n",
      " Validation Loss: 5.972396373748779\n",
      " Training Accuracy: 0.9912960498604013\n",
      " Validation Accuracy: 0.9386535882716328\n",
      "Epoch 32\n",
      " Training Loss: 0.7438007213816737\n",
      " Validation Loss: 6.1213812828063965\n",
      " Training Accuracy: 0.9898404213681044\n",
      " Validation Accuracy: 0.9382467718362488\n",
      "Epoch 33\n",
      " Training Loss: 0.7253420617406732\n",
      " Validation Loss: 6.244086265563965\n",
      " Training Accuracy: 0.9905188448907626\n",
      " Validation Accuracy: 0.9381413009085567\n",
      "Epoch 34\n",
      " Training Loss: 0.7068755233129919\n",
      " Validation Loss: 6.169506072998047\n",
      " Training Accuracy: 0.9915607095862735\n",
      " Validation Accuracy: 0.9379077581400955\n",
      "Epoch 35\n",
      " Training Loss: 0.6923896991653947\n",
      " Validation Loss: 6.376819610595703\n",
      " Training Accuracy: 0.9908580566520917\n",
      " Validation Accuracy: 0.9375536771685576\n",
      "Epoch 36\n",
      " Training Loss: 0.6818944369128208\n",
      " Validation Loss: 6.427600860595703\n",
      " Training Accuracy: 0.990841282444114\n",
      " Validation Accuracy: 0.9371543943708659\n",
      "Epoch 37\n",
      " Training Loss: 0.684483922810744\n",
      " Validation Loss: 6.545074462890625\n",
      " Training Accuracy: 0.9904293824482143\n",
      " Validation Accuracy: 0.936596905181636\n",
      "Epoch 38\n",
      " Training Loss: 0.6629146538428123\n",
      " Validation Loss: 6.572739601135254\n",
      " Training Accuracy: 0.9913612828914261\n",
      " Validation Accuracy: 0.9369811207039431\n",
      "Epoch 39\n",
      " Training Loss: 0.6402884720966516\n",
      " Validation Loss: 6.589111804962158\n",
      " Training Accuracy: 0.9920881652371314\n",
      " Validation Accuracy: 0.9361448869200982\n",
      "Epoch 40\n",
      " Training Loss: 0.653637060858556\n",
      " Validation Loss: 6.61767053604126\n",
      " Training Accuracy: 0.9916371254226168\n",
      " Validation Accuracy: 0.9375009417047115\n",
      "Epoch 41\n",
      " Training Loss: 0.6269136904091235\n",
      " Validation Loss: 6.837367534637451\n",
      " Training Accuracy: 0.9914507453339745\n",
      " Validation Accuracy: 0.9368530488631741\n",
      "Epoch 42\n",
      " Training Loss: 0.6431334476597261\n",
      " Validation Loss: 6.754450798034668\n",
      " Training Accuracy: 0.9918123227059407\n",
      " Validation Accuracy: 0.9376440808208651\n",
      "Epoch 43\n",
      " Training Loss: 0.6053312157163557\n",
      " Validation Loss: 6.802572727203369\n",
      " Training Accuracy: 0.992209312294749\n",
      " Validation Accuracy: 0.9375461435308653\n",
      "Epoch 44\n",
      " Training Loss: 0.6043429024764244\n",
      " Validation Loss: 6.988938808441162\n",
      " Training Accuracy: 0.9912047236169665\n",
      " Validation Accuracy: 0.9355497295424069\n",
      "Epoch 45\n",
      " Training Loss: 0.6135658765273379\n",
      " Validation Loss: 6.989104747772217\n",
      " Training Accuracy: 0.9918514625245556\n",
      " Validation Accuracy: 0.9367927797616357\n",
      "Epoch 46\n",
      " Training Loss: 0.617396282241834\n",
      " Validation Loss: 6.909853458404541\n",
      " Training Accuracy: 0.9918160503077136\n",
      " Validation Accuracy: 0.9369208516024048\n",
      "Epoch 47\n",
      " Training Loss: 0.6270942914959611\n",
      " Validation Loss: 7.059088706970215\n",
      " Training Accuracy: 0.9915942580022291\n",
      " Validation Accuracy: 0.936468833340867\n",
      "Epoch 48\n",
      " Training Loss: 0.5880752378149537\n",
      " Validation Loss: 7.039969444274902\n",
      " Training Accuracy: 0.9931318937335286\n",
      " Validation Accuracy: 0.9372146634724042\n",
      "Epoch 49\n",
      " Training Loss: 0.5463541737060673\n",
      " Validation Loss: 7.228820323944092\n",
      " Training Accuracy: 0.9922614987195688\n",
      " Validation Accuracy: 0.9367249770224051\n",
      "Epoch 50\n",
      " Training Loss: 0.6233041052391987\n",
      " Validation Loss: 7.17905330657959\n",
      " Training Accuracy: 0.9906399919483801\n",
      " Validation Accuracy: 0.9359640796154831\n",
      "Epoch 51\n",
      " Training Loss: 0.6237952226439849\n"
     ]
    },
    {
     "name": "stdout",
     "output_type": "stream",
     "text": [
      " Validation Loss: 7.300454616546631\n",
      " Training Accuracy: 0.9915588457853871\n",
      " Validation Accuracy: 0.9371619280085582\n"
     ]
    }
   ],
   "source": [
    "# Your training script here\n",
    "\n",
    "NUM_EPOCHS = 100\n",
    "\n",
    "train_losses = []\n",
    "val_losses = []\n",
    "train_accuracies = []\n",
    "val_accuracies = []\n",
    "for t in range(NUM_EPOCHS):\n",
    "    train_loss = train_epoch(srn, train_dataloader, optimizer=opt, loss_fn=loss_fn, device='cpu')\n",
    "    val_loss = eval_epoch(srn, val_dataloader, loss_fn, device='cpu')\n",
    "    \n",
    "    print('Epoch {}'.format(t))\n",
    "    print(' Training Loss: {}'.format(train_loss))\n",
    "    print(' Validation Loss: {}'.format(val_loss))\n",
    "    print(' Training Accuracy: {}'.format(measure_accuracy(network=srn, dataloader=train_dataloader, device = \"cpu\")))\n",
    "    print(' Validation Accuracy: {}'.format(measure_accuracy(network=srn, dataloader=val_dataloader, device = \"cpu\")))\n",
    "    \n",
    "    train_losses.append(train_loss)\n",
    "    val_losses.append(val_loss)\n",
    "    train_accuracies.append(train_accuracies)\n",
    "    val_accuracies.append(val_accuracies)\n",
    "    "
   ]
  },
  {
   "cell_type": "code",
   "execution_count": null,
   "metadata": {},
   "outputs": [],
   "source": [
    "# Plotting of the accuracies\n",
    "\n",
    "# naming the x axis \n",
    "plt.xlabel('epoch') \n",
    "# naming the y axis \n",
    "plt.ylabel('accuracy')\n",
    "plt.plot(range(1, 11), train_losses, label = 'training accuracy')\n",
    "plt.plot(range(1, 11), val_losses, label = 'validation accuracy')\n",
    "plt.legend()\n",
    "\n",
    "plt.plot(range(1, 4), train_accuracies)\n",
    "plt.plot(range(1, 4), val_accuracies)"
   ]
  },
  {
   "cell_type": "code",
   "execution_count": null,
   "metadata": {},
   "outputs": [],
   "source": [
    "# Plotting of the loss\n",
    "\n",
    "# naming the x axis \n",
    "plt.xlabel('epoch') \n",
    "# naming the y axis \n",
    "plt.ylabel('loss')\n",
    "plt.plot(range(1, 11), train_losses, label = 'training loss')\n",
    "plt.plot(range(1, 11), val_losses, label = 'validation loss')\n",
    "plt.legend()\n",
    "\n",
    "# plt.plot(range(1, 4), train_accuracies)\n",
    "# plt.plot(range(1, 4), val_accuracies)"
   ]
  },
  {
   "cell_type": "markdown",
   "metadata": {},
   "source": [
    "The test accuracy on this task should be well over 90%. If you are getting an accuracy much below this, play with your hyperparameters and try to improve. \n",
    "\n",
    "#### c) What is your final accuracy?"
   ]
  },
  {
   "cell_type": "markdown",
   "metadata": {},
   "source": [
    "training accuracy = 0.943\n",
    "validation accuracy = 0.943"
   ]
  },
  {
   "cell_type": "markdown",
   "metadata": {},
   "source": [
    "#### d) A little error analysis\n",
    "Minimally, find a few instances of sentences with wrong tags. Can you say why these mistakes are made?\n",
    "Optionally, feel free is do a full error analysis. What are the most commonly confused tags for an English POS tagger?"
   ]
  },
  {
   "cell_type": "markdown",
   "metadata": {},
   "source": [
    "your answer here"
   ]
  },
  {
   "cell_type": "markdown",
   "metadata": {},
   "source": [
    "**Congratulations!** 🎉 You are done with the required part! Now for some fun: "
   ]
  },
  {
   "cell_type": "markdown",
   "metadata": {},
   "source": [
    "### Optional[CCG Supertagging]\n",
    " See blackboard!"
   ]
  }
 ],
 "metadata": {
  "kernelspec": {
   "display_name": "Python 3",
   "language": "python",
   "name": "python3"
  },
  "language_info": {
   "codemirror_mode": {
    "name": "ipython",
    "version": 3
   },
   "file_extension": ".py",
   "mimetype": "text/x-python",
   "name": "python",
   "nbconvert_exporter": "python",
   "pygments_lexer": "ipython3",
   "version": "3.7.3"
  }
 },
 "nbformat": 4,
 "nbformat_minor": 2
}
