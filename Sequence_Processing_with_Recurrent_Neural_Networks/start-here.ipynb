{
 "cells": [
  {
   "cell_type": "markdown",
   "metadata": {},
   "source": [
    "# CCG Supertagging \n",
    "\n",
    " This file provides the skeleton structure for your submission.\n",
    " \n",
    " Read the instructions carefully before proceeding.\n",
    " \n",
    " ## 1. The Problem\n",
    " The problem formulation is very similar to POS tagging; again, you are tasked with designing and implementing an architecture that reads an english sentence and assigns each word a linguistic tag. The difference with the POS case is that the set of tags are now CCG categories, which are much more indicative of the sentence structure but also largely more numerous and sparse, hence harder to learn. CCG Supertagging is a popular ML/NLP task exactly due to its difficulty and linguistic significance; it is very likely that an architecture as simple as the one used for the previous part of the assignment will not take you very far..\n",
    "\n",
    " ## 2. Your task\n",
    " Unlike previous assignments, this one is open-ended. You are allowed much more creative liberty in how you treat the problem, which means that you are also given less code to start from. Don't let this scare you; keep aware of the fact that the POS tagging and CCG supertagging only differ in scale and complexity, but are otherwise instances of the same abstraction (sequential classification). If at a loss, refer to the code of your last assignment and feel free to reuse parts of it.\n",
    " \n",
    " What is expected of you:\n",
    " 1. Write clean, readable and error-free code that implements:\n",
    "     * a neural sequence processing model \n",
    "     * its training and validation functions\n",
    "     * all utilities necessary for training\n",
    " 2. Train your network as best as you can (performing model selection as needed)\n",
    " 3. Obtain your trained network's prediction for the provided test set\n",
    " 4. Submit your results using Kaggle's interface\n",
    " \n",
    "### Getting Started\n",
    " Minimally, you should replicate the SRN used in the previous assignment, adapted to the current setting. To give you an idea of its expected performance, the score of a SRN trained for 20 epochs is provided in the leaderboard as benchmark.\n",
    "You are, however, encouraged to go a step further and try more advanced architectures in order to maximize your accuracy. Kaggle's leaderboard will allow you to compare your performance against that of other teams.\n",
    "The top team might be rewarded a cookie.\n",
    " \n",
    " \n",
    "### Tips & Hints\n",
    "#### Model\n",
    "RNNs have limited expressive capacity that can be surpassed by more complicated variants such as [Gated Recurrent Units](https://en.wikipedia.org/wiki/Gated_recurrent_unit) and [Long Short-Term Memory Units](https://en.wikipedia.org/wiki/Long_short-term_memory); replacing your RNN with those could easily improve its performance.\n",
    "* [Learning Phrase Representations using RNN Encoder-Decoder for Statistical Machine Translation](https://arxiv.org/abs/1406.1078)\n",
    "* [Long Short-Term Memory](https://www.researchgate.net/publication/13853244_Long_Short-term_Memory)\n",
    " \n",
    "#### Training \n",
    "Remember that your goal is to train a model that is general and efficient enough to achieve high scores over the test set data. Take measures against overfitting: regularize with dropout and/or weight decay and keep track of the validation set performance to stop training early if needed.\n",
    " \n",
    "#### Implementation\n",
    "Whatever your design choices are, keep the torch documentation close at all times! Do not reinvent the wheel, use existing abstractions whenever possible (but make sure you use them the right way!).\n",
    "\n",
    "_Note_: A common trick in supertagging literature is to reduce the set of categories by removing all categories with very low frequency counts (i.e. < 10). This will inadvertedly remove your network's bility to predict them, but will also decrease the size of the softmax layer, enabling faster training. If you do choose to remove some categories, make sure that:\n",
    " 1. The ids of the kept categories are unchanged\n",
    " 2. All removed categories are mapped to the same id\n",
    "\n",
    "For your convenience, the mapping from categories to unique ids is in descending order (in terms of occurrence counts).\n",
    " \n",
    "#### Relevant Literature\n",
    " 1. [CCG Supertagging with a Recurrent Neural Network](https://aclweb.org/anthology/P15-2041)\n",
    " 2. [Supertagging with LSTMs](https://yonatanbisk.com/papers/2016-NAACLShort.pdf)\n",
    " 3. [LSTM CCG Parsing](https://homes.cs.washington.edu/~lsz/papers/llz-naacl16.pdf) (up to section 3)\n",
    " \n",
    " \n",
    " ## 3. Kaggle: How-To\n",
    " ### Fork this script\n",
    " In the `notebooks` tab of the assignment, open this notebook and hit `Copy and Edit` (top right). This should create a copied version of it that you can edit and work with. While editing your script, change its name so that you can easily identify your own version.\n",
    " ### Writing and running code\n",
    " You can write and execute code in the exact same way as a local jupyter notebook.\n",
    " ### Submission\n",
    " To submit your work and receive your current score and position in the leaderboard, hit the `Commit` button (top-right corner). Wait for the code to compile and execute. Upon successful completion, press the `Open Version` dialog button. In the new window, find the `Output` tab, select your output file and hit `Submit to Competition`. After a couple of minutes you should receive your submission score and your ranking in the leaderboard. \n",
    " ### Scoring\n",
    " Your score is the word-level accuracy, i.e. the overall percentage of words assigned their correct category.\n",
    " ### Important Notes\n",
    " * On the right sidebar, in the settings tab, set the `Docker` version to `kaggle/python from 2019-08-21` or `Original`\n",
    " * In the `File` menu bar (top left), change the `Kernel Type` to `Script` before submission\n",
    " * Running your script and commiting it are two different things. Remember that your output file is permanently stored and submitted for grading only after committing.\n",
    " * If you encounter any trouble, ask away"
   ]
  },
  {
   "cell_type": "code",
   "execution_count": 1,
   "metadata": {
    "_cell_guid": "0d033665-a826-4b41-9042-017858d1f6a0",
    "_uuid": "cbd1b11c-af06-4bda-9509-f557a38f9e7d"
   },
   "outputs": [],
   "source": [
    "from typing import List, Dict, Any, Tuple, Callable, Optional\n",
    "from itertools import chain\n",
    "\n",
    "import torch\n",
    "\n",
    "import pickle\n",
    "\n",
    "import pandas as pd"
   ]
  },
  {
   "cell_type": "code",
   "execution_count": 2,
   "metadata": {
    "_cell_guid": "5f779b9a-dc88-4a7a-93e2-71f92d239e28",
    "_uuid": "a4c2ee6e-a2df-412c-ae2d-bc4821611d33"
   },
   "outputs": [],
   "source": [
    "# List of training sentences\n",
    "X_train: List[List[str]]\n",
    "# ..their corresponding category sequences\n",
    "Y_train: List[List[str]]\n",
    "# Ditto for validation\n",
    "X_val: List[List[str]]\n",
    "Y_val: List[List[str]]\n",
    "# .. and testing (but no output!)\n",
    "X_test: List[List[str]]\n",
    "# Mapping from categories to unique ids\n",
    "cat_dict: Dict[str, int]\n",
    "\n",
    "with open('../input/horror/data.p', 'rb') as f:\n",
    "    X_train, Y_train, X_val, Y_val, X_test, cat_dict = pickle.load(f)"
   ]
  },
  {
   "cell_type": "code",
   "execution_count": 3,
   "metadata": {
    "_cell_guid": "c0f62b73-b044-46b5-b11a-4bc3999082fa",
    "_uuid": "8c4a4604-3123-454f-aa7b-b03343ab3b14"
   },
   "outputs": [],
   "source": [
    "# Your vectorization goes here\n",
    "\n",
    "# .."
   ]
  },
  {
   "cell_type": "code",
   "execution_count": 4,
   "metadata": {
    "_cell_guid": "94032b0e-6d92-4819-85d2-41f5434e1759",
    "_uuid": "c43141ae-5b7e-42b9-a962-9b985d04f3dd"
   },
   "outputs": [],
   "source": [
    "# .."
   ]
  },
  {
   "cell_type": "code",
   "execution_count": 5,
   "metadata": {
    "_cell_guid": "2c4adb11-60e1-44f7-8658-4877750b54d4",
    "_uuid": "bb11f003-4bf2-4526-acea-cac5036aedf2"
   },
   "outputs": [],
   "source": [
    "# Your dataset and dataloader definitions go here;\n",
    "\n",
    "from torch.utils.data import Dataset, DataLoader\n",
    "from torch.nn.utils.rnn import pad_sequence\n",
    "\n",
    "# .."
   ]
  },
  {
   "cell_type": "code",
   "execution_count": 6,
   "metadata": {},
   "outputs": [],
   "source": [
    "# .."
   ]
  },
  {
   "cell_type": "code",
   "execution_count": 7,
   "metadata": {
    "_cell_guid": "30db6127-d35d-409f-9f6d-d81b14020945",
    "_uuid": "75e144e9-b2e2-49ec-993d-ce15f5cd283a"
   },
   "outputs": [],
   "source": [
    "# Your network goes here\n",
    "\n",
    "class CCGSupertagger(torch.nn.Module):\n",
    "    def __init__(self, *args, **kwargs):\n",
    "        raise NotImplementedError\n",
    "        \n",
    "    def forward(self, *args, **kwargs):\n",
    "        raise NotImplementedError\n",
    "    \n",
    "    def predict_sentence(self, x) -> List[int]:\n",
    "        \"\"\"\n",
    "            A function that accepts some input (a sentence and any other arguments)\n",
    "            and produces a List of integers corresponding to the ids of the predicted\n",
    "            categories.\n",
    "            \n",
    "            Note: Do NOT pad the input -- the output shape should be exactly\n",
    "                equal to the length of the input sentence.\n",
    "                \n",
    "            Make sure this function respects the given type signature; wrong types\n",
    "            may result in weird behavior, ruining your evaluation scores!\n",
    "        \"\"\"\n",
    "        raise NotImplementedError\n",
    "        \n",
    "    def predict_many_sentences(self, inputs: Any) -> List[List[int]]:\n",
    "        \"\"\"\n",
    "            A function that accepts an Iterable (a list, or perhaps a dataloader)\n",
    "            of whatever `predict_sentence` expects, applies it iteratively and \n",
    "            returns the list containing the results.\n",
    "        \"\"\"\n",
    "        return [self.predict_sentence(inp) for inp in inputs]\n",
    "    \n",
    "def convert_predictions_to_csv(predictions: List[List[int]]) -> None:\n",
    "    \"\"\"\n",
    "        Takes your network's test set predictions, converts it into a \n",
    "        csv and stores it for grading.\n",
    "    \"\"\"\n",
    "    predictions = list(chain.from_iterable(predictions))\n",
    "    if len(predictions) != len(list(chain.from_iterable(X_test))):\n",
    "        raise AssertionError('The number of predictions should match the number' \n",
    "                             'of words in the test set')\n",
    "    df = pd.DataFrame({'id': list(range(len(predictions))), 'Category': predictions})\n",
    "    df.to_csv('out.csv', index=False)"
   ]
  },
  {
   "cell_type": "code",
   "execution_count": 8,
   "metadata": {
    "_cell_guid": "f098f7a9-c641-4081-9a5e-469bc9f1e077",
    "_uuid": "1962bc75-98a6-477c-b615-8a04b2bc1c12"
   },
   "outputs": [],
   "source": [
    "# Your utility functions go here\n",
    "\n",
    "# .."
   ]
  },
  {
   "cell_type": "code",
   "execution_count": 9,
   "metadata": {
    "_cell_guid": "5d06fe23-af1d-4f41-99a3-3e42bef5619c",
    "_uuid": "ee27149d-0a41-4c62-8bd3-e82cb8592635"
   },
   "outputs": [],
   "source": [
    "# Your training loop goes here, optimizer and loss_fn go here\n",
    "\n",
    "# .."
   ]
  },
  {
   "cell_type": "markdown",
   "metadata": {},
   "source": [
    "<div class=\"alert alert-block alert-warning\">\n",
    "<b>Important!</b>\n",
    "The cell below should obtain your predictions over the test set in the format specified. \n",
    "\n",
    "**Remember**; running the cell will not automatically submit your results. You need to convert your file into a script, commit and manually submit your result file (refer to the first markdown cell for more detailed instructions)\n",
    "</div>"
   ]
  },
  {
   "cell_type": "code",
   "execution_count": 10,
   "metadata": {
    "_cell_guid": "3911c52a-756f-4afc-aab1-c095920e7e10",
    "_uuid": "f1a24824-2ee4-44e6-b3da-32ed9c1a2036"
   },
   "outputs": [
    {
     "ename": "TypeError",
     "evalue": "'NotImplementedType' object is not iterable",
     "output_type": "error",
     "traceback": [
      "\u001b[0;31m---------------------------------------------------------------------------\u001b[0m",
      "\u001b[0;31mTypeError\u001b[0m                                 Traceback (most recent call last)",
      "\u001b[0;32m<ipython-input-10-20f96ed58707>\u001b[0m in \u001b[0;36m<module>\u001b[0;34m\u001b[0m\n\u001b[1;32m      4\u001b[0m \u001b[0;34m\u001b[0m\u001b[0m\n\u001b[1;32m      5\u001b[0m \u001b[0;31m# Store your predictions into a csv for grading\u001b[0m\u001b[0;34m\u001b[0m\u001b[0;34m\u001b[0m\u001b[0m\n\u001b[0;32m----> 6\u001b[0;31m \u001b[0mconvert_predictions_to_csv\u001b[0m\u001b[0;34m(\u001b[0m\u001b[0mpredictions\u001b[0m\u001b[0;34m)\u001b[0m\u001b[0;34m\u001b[0m\u001b[0m\n\u001b[0m\u001b[1;32m      7\u001b[0m \u001b[0;34m\u001b[0m\u001b[0m\n\u001b[1;32m      8\u001b[0m \u001b[0mprint\u001b[0m\u001b[0;34m(\u001b[0m\u001b[0;34m'Done!'\u001b[0m\u001b[0;34m)\u001b[0m\u001b[0;34m\u001b[0m\u001b[0m\n",
      "\u001b[0;32m<ipython-input-7-e9428334d884>\u001b[0m in \u001b[0;36mconvert_predictions_to_csv\u001b[0;34m(predictions)\u001b[0m\n\u001b[1;32m     35\u001b[0m         \u001b[0mcsv\u001b[0m \u001b[0;32mand\u001b[0m \u001b[0mstores\u001b[0m \u001b[0mit\u001b[0m \u001b[0;32mfor\u001b[0m \u001b[0mgrading\u001b[0m\u001b[0;34m.\u001b[0m\u001b[0;34m\u001b[0m\u001b[0m\n\u001b[1;32m     36\u001b[0m     \"\"\"\n\u001b[0;32m---> 37\u001b[0;31m     \u001b[0mpredictions\u001b[0m \u001b[0;34m=\u001b[0m \u001b[0mlist\u001b[0m\u001b[0;34m(\u001b[0m\u001b[0mchain\u001b[0m\u001b[0;34m.\u001b[0m\u001b[0mfrom_iterable\u001b[0m\u001b[0;34m(\u001b[0m\u001b[0mpredictions\u001b[0m\u001b[0;34m)\u001b[0m\u001b[0;34m)\u001b[0m\u001b[0;34m\u001b[0m\u001b[0m\n\u001b[0m\u001b[1;32m     38\u001b[0m     \u001b[0;32mif\u001b[0m \u001b[0mlen\u001b[0m\u001b[0;34m(\u001b[0m\u001b[0mpredictions\u001b[0m\u001b[0;34m)\u001b[0m \u001b[0;34m!=\u001b[0m \u001b[0mlen\u001b[0m\u001b[0;34m(\u001b[0m\u001b[0mlist\u001b[0m\u001b[0;34m(\u001b[0m\u001b[0mchain\u001b[0m\u001b[0;34m.\u001b[0m\u001b[0mfrom_iterable\u001b[0m\u001b[0;34m(\u001b[0m\u001b[0mX_test\u001b[0m\u001b[0;34m)\u001b[0m\u001b[0;34m)\u001b[0m\u001b[0;34m)\u001b[0m\u001b[0;34m:\u001b[0m\u001b[0;34m\u001b[0m\u001b[0m\n\u001b[1;32m     39\u001b[0m         raise AssertionError('The number of predictions should match the number' \n",
      "\u001b[0;31mTypeError\u001b[0m: 'NotImplementedType' object is not iterable"
     ]
    }
   ],
   "source": [
    "# Your predictions over the test set go here\n",
    "\n",
    "predictions: List[List[int]] = NotImplemented\n",
    "    \n",
    "# Store your predictions into a csv for grading\n",
    "convert_predictions_to_csv(predictions)\n",
    "\n",
    "print('Done!')"
   ]
  }
 ],
 "metadata": {
  "kernelspec": {
   "display_name": "Python 3",
   "language": "python",
   "name": "python3"
  },
  "language_info": {
   "codemirror_mode": {
    "name": "ipython",
    "version": 3
   },
   "file_extension": ".py",
   "mimetype": "text/x-python",
   "name": "python",
   "nbconvert_exporter": "python",
   "pygments_lexer": "ipython3",
   "version": "3.6.6"
  }
 },
 "nbformat": 4,
 "nbformat_minor": 1
}
