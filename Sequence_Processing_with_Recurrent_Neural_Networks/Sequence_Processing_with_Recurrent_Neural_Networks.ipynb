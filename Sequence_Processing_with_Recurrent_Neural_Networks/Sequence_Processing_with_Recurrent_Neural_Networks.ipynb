{
 "cells": [
  {
   "cell_type": "markdown",
   "metadata": {},
   "source": [
    "# Sequence Processing with Recurrent Neural Networks\n",
    "\n",
    "So far, we have seen how word vectors can be constructed from corpus statistics, and how they can be utilized to infer latent semantic content either in isolation (e.g. genders from names) or in relation to one another (e.g. similarities and analogies). \n",
    "\n",
    "For tasks involving larger linguistic units such as phrases, sentences and dialogues, we need machinery capable of processing _sequences_ or _structures_ of words.\n",
    "\n",
    "Recurrent Neural Networks are an example of such machinery; for this assignment, you will construct a recurrent neural network that annotates each word of a sentence with a linguistically informative marker. In the simple case (and in this assignment), these markers will be POS tags. However, they can also be morphosyntactic informative [categories](https://en.wikipedia.org/wiki/Combinatory_categorial_grammar) (supertags).\n",
    "\n",
    "In both cases, the task is a case of sequence labeling.  A good reference point is Jurafsky and Martin [Chapter 9](https://web.stanford.edu/~jurafsky/slp3/9.pdf). For a fuller view of the picture, a good reference point is Alex Graves' [dissertation](https://www.cs.toronto.edu/~graves/preprint.pdf).\n",
    "\n",
    "We will take a gradual approach, first inspecting recurrent neural networks, then moving on to data processing using high-grade word vectors before finally moving to the problem at hand. "
   ]
  },
  {
   "cell_type": "markdown",
   "metadata": {},
   "source": [
    "---"
   ]
  },
  {
   "cell_type": "markdown",
   "metadata": {},
   "source": [
    "## Recurrent Neural Networks\n",
    "Recurrent Neural Networks are a particularly interesting class of neural networks. Unlike standard fully-connected networks, which accept a fixed-size input and produce a fixed-size output over a predefined number of computational steps (i.e. network layers), RNNs instead operate on sequences of vectors. \n",
    "\n",
    "Computationally, feedforward networks may be seen as a trainable (but parametrically fixed) function, whereas RNNs act as continuous, stateful programs operating on sequences of inputs. \n",
    "Cognitively, this may be viewed as enhancing our system's perceptive and computational abilities with a notion of memory.\n",
    "In the general case, this statefulness is captured by an intermediate hidden vector which is adjusted throughout the computation, affected by both the immediately previous version of itself __and__ the current input.\n",
    "\n",
    "RNNs are nowadays established as the core machinery of neural sequence processing. \n",
    "\n",
    "A simple recurrent network (SRN or Elman network) is described by the equations:\n",
    "* $h_t = \\theta_h (W_h x_t + U_h h_{t-1} + b_h ) $\n",
    "* $y_t = \\theta_y (W_y h_t + b_y) $\n",
    "\n",
    "where (at timestep $t$) $x_t$, $h_t$, $y_t$ are the network's input, hidden and output representations respectively, $\\theta_h$, $\\theta_y$ its hidden and output activation functions, and $W_h$, $U_h$, $b_h$, $W_y$, $b_y$ parametric tensors to be learned."
   ]
  },
  {
   "cell_type": "code",
   "execution_count": 1,
   "metadata": {},
   "outputs": [],
   "source": [
    "import torch\n",
    "from torch import FloatTensor, LongTensor\n",
    "from typing import Tuple, List, Callable, Optional"
   ]
  },
  {
   "cell_type": "markdown",
   "metadata": {},
   "source": [
    "### Assignment 2.0: Our own SRN\n",
    "Let's make our own simple recurrent network from scratch, to get an idea of its inner workings. To make our life just a bit simpler, we will use `torch.nn.Linear` to model the internal transformations.\n",
    "\n",
    "Complete the `mySRN` class, which is initialized with the input $d_i$, hidden $d_h$ and output $d_o$ dimensionalities, as well as two non-linear functions $\\theta_h$ and $\\theta_y$, and constructs a SRN implementing three `torch.nn.Linear` layers:\n",
    "1. `x_to_h`: a layer that takes $x_t$ and produces $W_h x_t$\n",
    "2. `h_to_h`: a layer that takes $h_{t-1}$ and produces $U_h h_{t-1} + b_h$\n",
    "3. `h_to_y`: a layer that takes $h_t$ and produces $W_y h_t + b_y$\n",
    "\n",
    "Implement the function `step` that performs a computational step, accepting $x_t$ and $h_{t-1}$ and producing $h_t$ and $y_t$.\n",
    "\n",
    "Implement the function forward that accepts a List of inputs $X$, an initial hidden vector $h_{-1}$ and iteratively applies `step` until the input sequence is exhausted, returning a List of outputs $Y$ (of the same length as $X$).\n",
    "\n",
    "_Hint_: Note that `x_to_h` does not have a bias term $b$, since we will incorporate it into `h_to_h`"
   ]
  },
  {
   "cell_type": "code",
   "execution_count": 2,
   "metadata": {},
   "outputs": [],
   "source": [
    "class mySRN(torch.nn.Module):\n",
    "    def __init__(self, input_dim: int, hidden_dim: int, output_dim: int, \n",
    "                 hidden_activation: Callable[[FloatTensor], FloatTensor],\n",
    "                 output_activation: Callable[[FloatTensor], FloatTensor],\n",
    "                 device: str):\n",
    "        super(mySRN, self).__init__()\n",
    "        self.hidden_activation = hidden_activation\n",
    "        self.output_activation = output_activation\n",
    "        self.device = device\n",
    "        \n",
    "        self.x_to_h = torch.nn.Linear(input_dim, hidden_dim, bias=False)\n",
    "        self.h_to_h = torch.nn.Linear(hidden_dim, hidden_dim)\n",
    "        self.h_to_y = torch.nn.Linear(hidden_dim, output_dim)\n",
    "        \n",
    "    def step(self, x: FloatTensor, h: FloatTensor) -> Tuple[FloatTensor, FloatTensor]:\n",
    "        ht = self.hidden_activation(self.x_to_h(x) + self.h_to_h(h))\n",
    "        yt = self.output_activation(self.h_to_y(ht))\n",
    "        return ht, yt\n",
    "        \n",
    "    def forward(self, X: List[FloatTensor], h: FloatTensor) -> List[FloatTensor]:\n",
    "        outputs = []\n",
    "        ht = h\n",
    "        for item in X:\n",
    "            ht, output = self.step(item, ht)\n",
    "            outputs.append(output)\n",
    "        return outputs\n",
    "\n",
    "f = mySRN(3,3,1, hidden_activation=torch.nn.Tanh(), output_activation=torch.nn.Sigmoid(), device='cpu')\n",
    "X = (torch.rand(3), torch.rand(3), torch.rand(3))\n",
    "h = torch.rand(3)\n",
    "y = f(X,h)\n",
    "# print(y)   used to check the network effectively worked"
   ]
  },
  {
   "cell_type": "markdown",
   "metadata": {},
   "source": [
    "In practice, we do not need to write our own functions for common RNN architectures. \n",
    "Torch already provides the [necessary abstractions](https://pytorch.org/docs/stable/nn.html#recurrent-layers).\n",
    "\n",
    "The [RNN](https://pytorch.org/docs/stable/nn.html#rnn) wrapper implements highly optimized forward routines to compute the hidden representations of a full input sequence.\n",
    "\n",
    "Some pointers:\n",
    "* Unlike our naive implementation, RNN accepts a 3-dimensional tensor of shape (seq_len, batch_shape, input_dim) rather than a list of 2-dimensional tensors\n",
    "* If no initial hidden state is provided, it defaults to a zero tensor\n",
    "* The class produces just the RNN hidden states; it is up to us to define the `h_to_y` transformation on top of them\n",
    "* The non-linearity argument is a string; our only two choices are either `'tanh'` or `'relu'` (shorthands for `torch.nn.Tanh` and `torch.nn.ReLU` respectively)\n",
    "\n",
    "Read the documentation (!) for further details.\n",
    "\n",
    "A brief example is given below."
   ]
  },
  {
   "cell_type": "code",
   "execution_count": 3,
   "metadata": {},
   "outputs": [
    {
     "name": "stdout",
     "output_type": "stream",
     "text": [
      "torch.Size([10, 32, 48])\n"
     ]
    }
   ],
   "source": [
    "rnn = torch.nn.RNN(input_size=16, hidden_size=48, nonlinearity='tanh')\n",
    "X = torch.rand(10, 32, 16)\n",
    "h, _ = rnn(X)\n",
    "print(h.shape)"
   ]
  },
  {
   "cell_type": "markdown",
   "metadata": {},
   "source": [
    "So, for a random input tensor of shape (seq_len, batch_size, input_dim), we get back an output tensor of shape (seq_len, batch_size, hidden_dim)"
   ]
  },
  {
   "cell_type": "code",
   "execution_count": 4,
   "metadata": {},
   "outputs": [],
   "source": [
    "del mySRN, rnn, X, h"
   ]
  },
  {
   "cell_type": "markdown",
   "metadata": {},
   "source": [
    "### Assignment 2.1: A faster version of the SRN\n",
    "Now let's wrap an `RNN` into a custom module `myFastSRN` that implements it aside the `h_to_y` transformation."
   ]
  },
  {
   "cell_type": "code",
   "execution_count": 5,
   "metadata": {},
   "outputs": [],
   "source": [
    "class fastSRN(torch.nn.Module):\n",
    "    def __init__(self, input_dim: int, hidden_dim: int, output_dim: int, \n",
    "                 hidden_activation: str,\n",
    "                 output_activation: Callable[[FloatTensor], FloatTensor],\n",
    "                 device: str):\n",
    "        super(fastSRN, self).__init__()\n",
    "        self.output_activation = output_activation\n",
    "        self.hidden = torch.nn.RNN(input_size=input_dim, hidden_size=hidden_dim, nonlinearity=hidden_activation)\n",
    "        self.h_to_y = torch.nn.Linear(hidden_dim, output_dim)\n",
    "        \n",
    "        \n",
    "    def forward(self, X:FloatTensor, h: Optional[FloatTensor]=None) -> FloatTensor:\n",
    "        return self.output_activation(self.h_to_y(self.hidden(X, h)[0]))"
   ]
  },
  {
   "cell_type": "markdown",
   "metadata": {},
   "source": [
    "Let's see our new implementation in action. \n",
    "\n",
    "Initialize a random input tensor $X$ that would correspond to 32 sequences,  each of length 10, with each item having 16 features, and a `fastSRN` fit to process it, producing 42-dimensional hidden states and 2-dimension output vectors for each sequence item.\n",
    "\n",
    "Run the SRN on the tensor and make sure the output shape is as expected."
   ]
  },
  {
   "cell_type": "code",
   "execution_count": 6,
   "metadata": {},
   "outputs": [
    {
     "name": "stdout",
     "output_type": "stream",
     "text": [
      "torch.Size([10, 32, 2])\n"
     ]
    }
   ],
   "source": [
    "f = fastSRN(16, 42, 2, hidden_activation='tanh', output_activation=torch.nn.Sigmoid(), device='cpu')\n",
    "X = torch.rand(10,32,16)\n",
    "print(f(X).shape)\n"
   ]
  },
  {
   "cell_type": "markdown",
   "metadata": {},
   "source": [
    "Hopefully everything should be in order.\n",
    "\n",
    "You may have noticed a minor complication: in order to utilize batching, we need our input sequences to be of the same length.\n",
    "\n",
    "This however is very rarely the case in practice. A common trick against this problem is _padding_; that is, appending zero tensors to all input sequences shorter than the maximum in-batch length to make them all equally long.\n",
    "\n",
    "As usual, torch already does the hard work for us via [pad_sequence](https://pytorch.org/docs/stable/nn.html?highlight=pad%20_sequence#torch.nn.utils.rnn.pad_sequence). Given a list of $N$ 2-dimensional tensors, each of shape (seq_len$_n$, input_dim), it will construct a 3-d tensor of shape ($max_{n \\in N}${seq_len$_n$}, N, input_dim).\n",
    "\n",
    "An example:"
   ]
  },
  {
   "cell_type": "code",
   "execution_count": 7,
   "metadata": {},
   "outputs": [
    {
     "name": "stdout",
     "output_type": "stream",
     "text": [
      "torch.Size([7, 3, 16])\n"
     ]
    }
   ],
   "source": [
    "x_1 = torch.rand(1, 16)  # a sequence of 1, 16-dimensional item\n",
    "x_2 = torch.rand(7, 16)  # a sequence of 7, 16-dimensional items\n",
    "x_3 = torch.rand(5, 16)  # a sequence of 5, 16-dimensional items\n",
    "\n",
    "X = torch.nn.utils.rnn.pad_sequence([x_1, x_2, x_3])  \n",
    "\n",
    "# Can you guess what the shape of X is?\n",
    "print(X.shape)"
   ]
  },
  {
   "cell_type": "code",
   "execution_count": 8,
   "metadata": {},
   "outputs": [],
   "source": [
    "del x_1, x_2, x_3, X"
   ]
  },
  {
   "cell_type": "markdown",
   "metadata": {},
   "source": [
    "## Pretrained Word Embeddings\n",
    "Moving on-- last assignment, we saw how to train our own word embeddings using a miniature toy corpus. Now, we will see how to easily employ high-quality pretrained word vectors and, later on, how to utilize them for further downstream tasks.\n",
    "\n",
    "We are going to use [spaCy](https://spacy.io/). SpaCy is a high-level NLP library that provides a ton of useful functionalities, but we will only focus on its pretrained embeddings for this assignment.\n",
    "\n",
    "Before proceeding, [install spacy](https://spacy.io/usage) using your python package manager (e.g. `pip install spacy`)."
   ]
  },
  {
   "cell_type": "code",
   "execution_count": 9,
   "metadata": {},
   "outputs": [],
   "source": [
    "import spacy"
   ]
  },
  {
   "cell_type": "markdown",
   "metadata": {},
   "source": [
    "SpaCy comes with a lot of different-size models for different languages. \n",
    "\n",
    "We will need to download the small english model for the exercises to follow. You can either do it on a new terminal window (optimal, if you are running this assignment through a virtual environment) or by simply running the magic command below. "
   ]
  },
  {
   "cell_type": "code",
   "execution_count": 10,
   "metadata": {},
   "outputs": [
    {
     "name": "stderr",
     "output_type": "stream",
     "text": [
      "Python was not found but can be installed from the Microsoft Store: https://go.microsoft.com/fwlink?linkID=2082640\n"
     ]
    }
   ],
   "source": [
    "!python3 -m spacy download en_core_web_lg"
   ]
  },
  {
   "cell_type": "markdown",
   "metadata": {},
   "source": [
    "After having downloaded the model, we can load it as follows (you may need to restart your notebook after the download is complete):"
   ]
  },
  {
   "cell_type": "code",
   "execution_count": 11,
   "metadata": {},
   "outputs": [],
   "source": [
    "nlp = spacy.load('en_core_web_lg')"
   ]
  },
  {
   "cell_type": "markdown",
   "metadata": {},
   "source": [
    "We can then use the loaded model to process a sentence and obtain its word vectors, a List of 300-dimensional numpy arrays."
   ]
  },
  {
   "cell_type": "code",
   "execution_count": 12,
   "metadata": {},
   "outputs": [
    {
     "name": "stdout",
     "output_type": "stream",
     "text": [
      "We have 7 vectors..\n",
      "..each of shape (300,)\n"
     ]
    }
   ],
   "source": [
    "doc = nlp('this is a sentence of 7 words')  # the processed sentence\n",
    "vectors = list(map(lambda x: x.vector, doc))  # its vectors\n",
    "print('We have {} vectors..'.format(len(vectors)))\n",
    "print('..each of shape {}'.format(vectors[0].shape))"
   ]
  },
  {
   "cell_type": "markdown",
   "metadata": {},
   "source": [
    "And then finally convert them into torch tensors."
   ]
  },
  {
   "cell_type": "code",
   "execution_count": 13,
   "metadata": {},
   "outputs": [
    {
     "name": "stdout",
     "output_type": "stream",
     "text": [
      "torch.Size([7, 300])\n"
     ]
    }
   ],
   "source": [
    "torch_vectors = torch.tensor(vectors)\n",
    "print(torch_vectors.shape)"
   ]
  },
  {
   "cell_type": "markdown",
   "metadata": {},
   "source": [
    "Or, in the case of multiple sentences:"
   ]
  },
  {
   "cell_type": "code",
   "execution_count": 14,
   "metadata": {},
   "outputs": [],
   "source": [
    "# Example sentences\n",
    "sentences = ['This is a sentence', 'This is another sentence.']\n",
    "\n",
    "# Parallel processing with spacy\n",
    "docs = list(map(nlp, sentences))\n",
    "\n",
    "# Convert each processed sentence into a list of vectors\n",
    "vectors = map(lambda doc: [word.vector for word in doc], docs)\n",
    "\n",
    "# Convert each list of vectors into a 2-d torch tensor\n",
    "tensors = list(map(lambda sentence_vectors: torch.tensor(sentence_vectors), vectors))"
   ]
  },
  {
   "cell_type": "markdown",
   "metadata": {},
   "source": [
    "## POS Tagging\n",
    "Given our pretrained embeddings, we may represent sentences as _sequences of vectors_, which is exactly the format expected by an RNN.\n",
    "We will now try to train an SRN to iterate over a sentence and assign part of speech tags to each of its words."
   ]
  },
  {
   "cell_type": "markdown",
   "metadata": {},
   "source": [
    "### Assignment 2.2: Why use an RNN?\n",
    "In the context of POS tagging, what is the advantage of using a recurrent network over a feedforward network that processes each word individually?"
   ]
  },
  {
   "cell_type": "markdown",
   "metadata": {},
   "source": [
    "In natural language, the meaning of a word is not usually the same in all words, but can differ based on its context in a sentence. By looking at words in the sequence in which they occur in a sentence, the temporal relationships in this context can be taken into account. These relationships cannot be captured by a feedforward network, but can be captured by a recurrent network. This makes the use of a recurrent network more advantageous."
   ]
  },
  {
   "cell_type": "markdown",
   "metadata": {},
   "source": [
    "\n",
    "First, let's load and inspect our datafiles.\n",
    "\n",
    "The pickle file contains three items:\n",
    "1. `sentences`: a List of strings (-sentences)\n",
    "1. `postags`: a List of Lists of strings (-POS tags)\n",
    "2. `pos_to_int`: a Dictionary from strings to ints (mapping each POS tag to a unique identifier)\n",
    " "
   ]
  },
  {
   "cell_type": "code",
   "execution_count": 15,
   "metadata": {},
   "outputs": [],
   "source": [
    "import pickle\n",
    "with open('TRAIN.p', 'rb') as f:\n",
    "    sentences, postags, pos_to_int = pickle.load(f)"
   ]
  },
  {
   "cell_type": "code",
   "execution_count": 16,
   "metadata": {},
   "outputs": [],
   "source": [
    "#same for the test set\n",
    "with open('TEST.p', 'rb') as f_test:\n",
    "    sentences_test, postags_test, pos_to_int_test = pickle.load(f_test)"
   ]
  },
  {
   "cell_type": "markdown",
   "metadata": {},
   "source": [
    "Now, let us take a moment to understand the data a bit more. \n",
    "The POS tags in this dataset are in the style of the Penn Treebank. Find the top 20 most common tags and plot a histogram of their frequencies. Find out what these tags mean linguisically! https://www.ling.upenn.edu/courses/Fall_2003/ling001/penn_treebank_pos.html"
   ]
  },
  {
   "cell_type": "code",
   "execution_count": 17,
   "metadata": {},
   "outputs": [
    {
     "data": {
      "text/plain": [
       "<Figure size 640x480 with 1 Axes>"
      ]
     },
     "metadata": {},
     "output_type": "display_data"
    }
   ],
   "source": [
    "from collections import Counter\n",
    "from matplotlib import pyplot as plt\n",
    "import numpy as np\n",
    "\n",
    "flattened = [val for sublist in postags for val in sublist if val != '.' and val != ',']\n",
    "most_freq = Counter(flattened)\n",
    "top_20_pairs = most_freq.most_common(20)\n",
    "top_20 = [i[0] for i in top_20_pairs]\n",
    "\n",
    "indices = np.arange(len(top_20))\n",
    "plt.bar(indices, [i[1] for i in top_20_pairs], color='r')\n",
    "plt.xticks(indices, top_20, rotation='vertical')\n",
    "plt.tight_layout()\n",
    "plt.show()\n"
   ]
  },
  {
   "cell_type": "markdown",
   "metadata": {},
   "source": [
    "Next, we need to convert our data to numeric form."
   ]
  },
  {
   "cell_type": "markdown",
   "metadata": {},
   "source": [
    "### Assignment 2.3: Tensorizing sentences\n",
    "Convert sentences to their tensor format, as done earlier (this may take a while). \n",
    "\n",
    "<div class=\"alert alert-block alert-warning\">\n",
    "<b>Important!</b>\n",
    "Since the sentences are pre-tokenized (i.e. they are provided as sequences of words rather than strings), we need to change the processing call to ensure the output vectors are aligned with our tokenization.\n",
    "</div>"
   ]
  },
  {
   "cell_type": "code",
   "execution_count": 18,
   "metadata": {},
   "outputs": [],
   "source": [
    "docs = list(map(lambda sentence: \n",
    "                spacy.tokens.doc.Doc(nlp.vocab, words=sentence.split()), \n",
    "            sentences))\n",
    "\n",
    "doc_vectors = map(lambda doc: [word.vector for word in doc], docs)\n",
    "\n",
    "doc_tensors = list(map(lambda sentence_vectors: torch.tensor(sentence_vectors), doc_vectors))\n",
    "\n",
    "# We no longer need the docs and numpy array\n",
    "del doc_vectors, docs"
   ]
  },
  {
   "cell_type": "code",
   "execution_count": 19,
   "metadata": {},
   "outputs": [],
   "source": [
    "# same for the test set\n",
    "docs_test = list(map(lambda sentence: \n",
    "                spacy.tokens.doc.Doc(nlp.vocab, words=sentence), \n",
    "            sentences_test))\n",
    "\n",
    "doc_vectors_test = map(lambda doc: [word.vector for word in doc], docs_test)\n",
    "\n",
    "doc_tensors_test = list(map(lambda sentence_vectors: torch.tensor(sentence_vectors), doc_vectors_test))\n",
    "\n",
    "# We no longer need the docs and numpy array\n",
    "del doc_vectors_test, docs_test"
   ]
  },
  {
   "cell_type": "markdown",
   "metadata": {},
   "source": [
    "Similarly, we will use `pos_to_int` to convert the POS sequences into tensors."
   ]
  },
  {
   "cell_type": "code",
   "execution_count": 20,
   "metadata": {},
   "outputs": [],
   "source": [
    "pos_numeric = list(map(lambda pos_sequence: [pos_to_int[pos] for pos in pos_sequence], postags))\n",
    "pos_tensors =  list(map(lambda pos_num_sequence: torch.tensor(pos_num_sequence), pos_numeric))"
   ]
  },
  {
   "cell_type": "code",
   "execution_count": 21,
   "metadata": {},
   "outputs": [],
   "source": [
    "# same for the test set\n",
    "pos_tensors_test =  list(map(lambda pos_num_sequence: torch.tensor(pos_num_sequence), postags_test))"
   ]
  },
  {
   "cell_type": "markdown",
   "metadata": {},
   "source": [
    "In the first assignment, we saw how to split our dataset into a training and a validation set. \n",
    "\n",
    "Do the same here, splitting the sentences, postags and their corresponding tensors into a training and a validation set."
   ]
  },
  {
   "cell_type": "code",
   "execution_count": 22,
   "metadata": {},
   "outputs": [],
   "source": [
    "from sklearn.model_selection import train_test_split\n",
    "sentences_train, sentences_val, postags_train, postags_val, X_train, X_val, Y_train, Y_val \\\n",
    "    = train_test_split(sentences, postags, doc_tensors, pos_tensors, test_size=0.2)\n",
    "assert len(X_train) == len(Y_train) == len(sentences_train)\n",
    "assert len(X_val) == len(Y_val) == len(sentences_val)"
   ]
  },
  {
   "cell_type": "code",
   "execution_count": 23,
   "metadata": {},
   "outputs": [],
   "source": [
    "X_test = doc_tensors_test\n",
    "Y_test = pos_tensors_test"
   ]
  },
  {
   "cell_type": "markdown",
   "metadata": {},
   "source": [
    "Again, following along the first assignment, we will wrap our tensors into a `Dataset` and a `DataLoader`.\n",
    "\n",
    "Since our data are not Tensors but rather Lists of Tensors of uneven lengths, we need to write our own Dataset wrapper.\n",
    "The wrapper only needs to implement two functions; `__len__`, which expects no arguments and returns the number of samples in the dataset, and `__getitem__`, which accepts an index `idx` and returns the input-output pair `X[idx]`, `Y[idx]`.\n",
    "\n",
    "Similarly, the Dataloader needs to process the list of input-output pairs produced by the Dataset using `pad_sequence`, as seen earlier."
   ]
  },
  {
   "cell_type": "markdown",
   "metadata": {},
   "source": [
    "### Assignment 2.4: Padding\n",
    "#### a) What is the advantage to applying padding on the batch rather than the entire dataset?"
   ]
  },
  {
   "cell_type": "markdown",
   "metadata": {},
   "source": [
    "Given that padding changes the sequences so they are all the same length as the longest sequence, doing this for the entire data set changes the lengths of all sequences to the length of the longest sequence of the overall data set. If this is a particularly large sequence, then a lot of space is unnecessarily used for the padding of the other sequences. When applying padding to batches, this extensive padding for the longest sequence will only be applied to that one batch."
   ]
  },
  {
   "cell_type": "markdown",
   "metadata": {},
   "source": [
    "#### b) Fill in the code for `UnevenLengthDataset` class, implementing its two core functions.\n",
    "\n",
    "Then, complete the function `pad_batch` which takes a list of (x$_i$, y$_i$) pairs and produces the pair of their paddings: (X, Y).\n",
    "\n",
    "Given the two, the `DataLoader` object defined can iterate over the Dataset yielding uniform batches ready to be consumed by an RNN."
   ]
  },
  {
   "cell_type": "code",
   "execution_count": 24,
   "metadata": {},
   "outputs": [],
   "source": [
    "from torch.nn.utils.rnn import pad_sequence\n",
    "from torch.utils.data import Dataset, DataLoader\n",
    "\n",
    "\n",
    "class UnevenLengthDataset(Dataset):\n",
    "    def __init__(self, X: List[FloatTensor], Y: List[LongTensor]) -> None:\n",
    "        self.X = X\n",
    "        self.Y = Y\n",
    "        \n",
    "    def __len__(self) -> int:\n",
    "        return len(self.X)\n",
    "        \n",
    "    def __getitem__(self, idx: int) -> Tuple[FloatTensor, LongTensor]:\n",
    "        return (self.X[idx], self.Y[idx])\n",
    "    \n",
    "    \n",
    "def pad_batch(batch: List[Tuple[FloatTensor, LongTensor]]) -> Tuple[FloatTensor, LongTensor]:\n",
    "    padded_X = torch.nn.utils.rnn.pad_sequence([i[0] for i in batch], batch_first=False) #unsure if this should be true\n",
    "    padded_Y = torch.nn.utils.rnn.pad_sequence([i[1] for i in batch], batch_first=False) #unsure if this should be true\n",
    "    padded_pair = (padded_X, padded_Y)\n",
    "    return padded_pair\n",
    "                  \n",
    "train_dataset = UnevenLengthDataset(X_train, Y_train)\n",
    "train_dataloader = DataLoader(train_dataset, \n",
    "                              collate_fn=pad_batch,\n",
    "                              shuffle=True,\n",
    "                              batch_size=32)\n",
    "\n",
    "val_dataset = UnevenLengthDataset(X_val, Y_val)\n",
    "val_dataloader = DataLoader(val_dataset,\n",
    "                            collate_fn=pad_batch,\n",
    "                            shuffle=False,\n",
    "                            batch_size=32)\n",
    "\n",
    "test_dataset = UnevenLengthDataset(X_test, Y_test)\n",
    "test_dataloader = DataLoader(test_dataset,\n",
    "                            collate_fn=pad_batch,\n",
    "                            shuffle=False,\n",
    "                            batch_size=32)"
   ]
  },
  {
   "cell_type": "markdown",
   "metadata": {},
   "source": [
    "What does a batch look like, shape-wise?"
   ]
  },
  {
   "cell_type": "code",
   "execution_count": 25,
   "metadata": {},
   "outputs": [
    {
     "name": "stdout",
     "output_type": "stream",
     "text": [
      "torch.Size([54, 32, 300])\n",
      "torch.Size([54, 32])\n"
     ]
    }
   ],
   "source": [
    "for batch_x, batch_y in train_dataloader:\n",
    "    print(batch_x.shape)\n",
    "    print(batch_y.shape)\n",
    "    break"
   ]
  },
  {
   "cell_type": "markdown",
   "metadata": {},
   "source": [
    "So far so good. On to the network.\n",
    "\n",
    "### Assignment 2.5: Utility Functions\n",
    "Remember how we defined our training and validation functions for the first assignment?\n",
    "\n",
    "You will need to do the same here.\n",
    "Note that while you can use the given code as a guideline, just copying it won't do the trick; unlike a feedforward net, a recurrent network produces a 3rd order output tensor, of shape (max_seq_len, batch_size, num_output_classes).\n",
    "\n",
    "Similarly, our target Y is a 2nd order tensor of shape (max_seq_len, batch_size).\n",
    "\n",
    "You will need to properly treat the extra dimensional of both the output and the target, since loss functions expect an order 2 output tensor and an order 1 target tensor. \n",
    "\n",
    "Complete the functions `train_batch`, `train_epoch`, `eval_batch` and `eval_epoch`."
   ]
  },
  {
   "cell_type": "code",
   "execution_count": 26,
   "metadata": {},
   "outputs": [],
   "source": [
    "def accuracy(predictions: LongTensor, truth: LongTensor, ignore_idx: int) -> Tuple[int, int]:\n",
    "    \"\"\"\n",
    "        Given a tensor containing the network's predictions and a tensor containing the true values, as well\n",
    "        as an output value to ignore (e.g. the padding value), computes and returns the total count of non-\n",
    "        ignored values as well the total count of correctly predicted values.\n",
    "        \n",
    "        predictions: The network's predictions.\n",
    "        truth: The true output labels.\n",
    "        ignore_idx: The output padding value, to be ignored in accuracy calculation.\n",
    "    \"\"\"\n",
    "    \n",
    "    correct_words = torch.ones(predictions.size())\n",
    "    correct_words[predictions != truth] = 0\n",
    "    correct_words[truth == ignore_idx] = 1\n",
    "\n",
    "    num_correct_words = correct_words.sum().item()\n",
    "    num_masked_words = len(truth[truth == ignore_idx])\n",
    "\n",
    "    return predictions.shape[0] * predictions.shape[1] - num_masked_words, num_correct_words - num_masked_words\n",
    "\n",
    "\n",
    "def measure_accuracy(network: torch.nn.Module,\n",
    "                    dataloader: DataLoader,\n",
    "                    device: str) -> float:\n",
    "    \"\"\"\n",
    "        Given a network, a dataloader and a device, iterates over the dataset and returns the network's accuracy.\n",
    "    \"\"\"\n",
    "    correct = 0\n",
    "    total = 0\n",
    "    for x_batch, y_batch in dataloader:\n",
    "        pred = network(x_batch.to(device))\n",
    "        local_total, local_correct = accuracy(pred.argmax(dim=-1), y_batch.to(device), ignore_idx=0)\n",
    "        correct+= local_correct\n",
    "        total+= local_total\n",
    "    return correct/total\n",
    "    \n",
    "\n",
    "def train_batch(network: torch.nn.Module,\n",
    "                X_batch: FloatTensor,\n",
    "                Y_batch: LongTensor,\n",
    "                loss_fn: Callable[[FloatTensor, FloatTensor], FloatTensor],  \n",
    "                optimizer: torch.optim.Optimizer) -> float:\n",
    "    \n",
    "    network.train()\n",
    "    prediction_batch = network(X_batch)  # forward pass\n",
    "    prediction_batch_reshaped = prediction_batch.view(prediction_batch.shape[0]*prediction_batch.shape[1], prediction_batch.shape[2])\n",
    "    Y_batch_reshaped = Y_batch.view(Y_batch.shape[0]*Y_batch.shape[1])\n",
    "    batch_loss = loss_fn(prediction_batch_reshaped, Y_batch_reshaped)  # loss calculation\n",
    "    batch_loss.backward()  # gradient computation\n",
    "    optimizer.step()  # back-propagation\n",
    "    optimizer.zero_grad()  # gradient reset\n",
    "    return batch_loss.item()\n",
    "\n",
    "def train_epoch(network: torch.nn.Module, \n",
    "                dataloader: DataLoader,\n",
    "                loss_fn: Callable[[FloatTensor, FloatTensor], FloatTensor],\n",
    "                optimizer: torch.optim.Optimizer, \n",
    "                device: str) -> float:\n",
    "    \n",
    "    loss = 0.\n",
    "    for i, (x_batch, y_batch) in enumerate(dataloader):\n",
    "        loss += train_batch(network=network, X_batch=x_batch, Y_batch=y_batch, loss_fn=loss_fn, optimizer=optimizer)\n",
    "    loss /= (i+1) # divide loss by number of batches for consistency \n",
    "    return loss\n",
    "\n",
    "def eval_batch(network: torch.nn.Module,\n",
    "                X_batch: FloatTensor,\n",
    "                Y_batch: LongTensor,\n",
    "                loss_fn: Callable[[FloatTensor, LongTensor], FloatTensor]) -> float:\n",
    "    \n",
    "    network.eval()\n",
    "    \n",
    "    with torch.no_grad():\n",
    "        prediction_batch = network(X_batch)  # forward pass\n",
    "        prediction_batch_reshaped = prediction_batch.view(prediction_batch.shape[0]*prediction_batch.shape[1], prediction_batch.shape[2])\n",
    "        Y_batch_reshaped = Y_batch.view(Y_batch.shape[0]*Y_batch.shape[1])\n",
    "        batch_loss = loss_fn(prediction_batch_reshaped, Y_batch_reshaped)  # loss calculation\n",
    "        return batch_loss.item()\n",
    "\n",
    "def eval_epoch(network: torch.nn.Module, \n",
    "                # a list of data points x\n",
    "                dataloader: DataLoader,\n",
    "                loss_fn: Callable[[FloatTensor, LongTensor], FloatTensor],\n",
    "                device: str) -> float:\n",
    "    \n",
    "    loss = 0.\n",
    "    for i, (x_batch, y_batch) in enumerate(dataloader):\n",
    "        loss += eval_batch(network, x_batch, y_batch, loss_fn)\n",
    "    loss /= (i+1) # divide loss by number of batches for consistency \n",
    "        \n",
    "    return loss"
   ]
  },
  {
   "cell_type": "markdown",
   "metadata": {},
   "source": [
    "### Assignment 2.6: SRN POS tagging\n",
    "Define a simple recurrent network, with input size compatible with the vector dimensionality, output size compatible with the number of output classes (the number of different POS tags + 1) and a hidden size of your own choice. What is a reasonable choice?"
   ]
  },
  {
   "cell_type": "markdown",
   "metadata": {},
   "source": [
    "#### a) Why do we need to add 1 to the number of output classes?"
   ]
  },
  {
   "cell_type": "markdown",
   "metadata": {},
   "source": [
    "Because the padding added 0 values to the ends of sequences, an additional output is required to differentiate the padded values from the original sequence entries."
   ]
  },
  {
   "cell_type": "markdown",
   "metadata": {},
   "source": [
    "#### b) Implementation\n",
    "\n",
    "Use `\"tanh\"` as your hidden layer activation, and choose **an appropriate combination of output activation and loss function** (consider the task at hand, and refer to the documentation if in doubt- refer to tutorial as well!).\n",
    "\n",
    "Then instantiate an optimizer over your network, and train it for a number of epochs, measuring and printing all metrics in the process (train and validation loss and accuracy).\n",
    "\n",
    "_Hint_: Use `measure_accuracy` (defined earlier) to obtain accuracy.\n",
    "\n",
    "Plot the loss curves over the training process."
   ]
  },
  {
   "cell_type": "code",
   "execution_count": 27,
   "metadata": {},
   "outputs": [],
   "source": [
    "I = 300\n",
    "H = 150\n",
    "O = len(pos_to_int) + 1\n",
    "srn = fastSRN(I,H,O, 'tanh', torch.nn.LogSoftmax(dim=2), 'cpu')\n",
    "opt = torch.optim.Adam(srn.parameters(), lr=0.001)\n",
    "loss_fn = torch.nn.NLLLoss()"
   ]
  },
  {
   "cell_type": "code",
   "execution_count": 28,
   "metadata": {},
   "outputs": [],
   "source": [
    "# The following code was used to tune the network parameters\n",
    "\n",
    "import time\n",
    "device = 'cpu'\n",
    "NUM_EPOCHS = 10\n",
    "\n",
    "# train_losses = []\n",
    "# val_losses = []\n",
    "# train_accs = []\n",
    "# val_accs = []\n",
    "\n",
    "# start_time = time.time()\n",
    "# for t in range(NUM_EPOCHS):\n",
    "#     train_loss = train_epoch(srn, train_dataloader, optimizer=opt, loss_fn=loss_fn, device=device)\n",
    "#     val_loss = eval_epoch(srn, val_dataloader, loss_fn, device=device)\n",
    "#     train_acc = measure_accuracy(srn, train_dataloader, device=device)\n",
    "#     val_acc = measure_accuracy(srn, val_dataloader, device=device)\n",
    "    \n",
    "#     print('Epoch {}'.format(t))\n",
    "#     print(' Training Loss: {}'.format(train_loss))\n",
    "#     print(' Validation Loss: {}'.format(val_loss))\n",
    "#     print(' Training Accuracy: {}'.format(train_acc))\n",
    "#     print(' Validation Accuracy: {}'.format(val_acc))\n",
    "#     print('Elapsed time: ', time.time() - start_time)\n",
    "    \n",
    "#     train_losses.append(train_loss)\n",
    "#     val_losses.append(val_loss)\n",
    "#     train_accs.append(train_acc)\n",
    "#     val_accs.append(val_acc)"
   ]
  },
  {
   "cell_type": "code",
   "execution_count": 29,
   "metadata": {},
   "outputs": [
    {
     "name": "stdout",
     "output_type": "stream",
     "text": [
      "Epoch 0\n",
      " Training Loss: 0.3546352991501227\n",
      " Test Loss: 0.1426519439758166\n",
      " Training Accuracy: 0.9154456791229799\n",
      " Test Accuracy: 0.9143974817395556\n",
      "Epoch 1\n",
      " Training Loss: 0.12127474236567289\n",
      " Test Loss: 0.11183111102360746\n",
      " Training Accuracy: 0.9316564357618664\n",
      " Test Accuracy: 0.9296476269062681\n",
      "Epoch 2\n",
      " Training Loss: 0.10030973400698592\n",
      " Test Loss: 0.10012673157388749\n",
      " Training Accuracy: 0.9400147862711713\n",
      " Test Accuracy: 0.9354542954066196\n",
      "Epoch 3\n",
      " Training Loss: 0.08887174453660353\n",
      " Test Loss: 0.0945266394511513\n",
      " Training Accuracy: 0.9440156674731905\n",
      " Test Accuracy: 0.9379908926988784\n",
      "Epoch 4\n",
      " Training Loss: 0.08179662514798688\n",
      " Test Loss: 0.089513817154195\n",
      " Training Accuracy: 0.9487166562117274\n",
      " Test Accuracy: 0.9409553497753737\n",
      "Epoch 5\n",
      " Training Loss: 0.07635898741566582\n",
      " Test Loss: 0.08796814667141956\n",
      " Training Accuracy: 0.9519539534605849\n",
      " Test Accuracy: 0.9427584731517985\n",
      "Epoch 6\n",
      " Training Loss: 0.0714244995142845\n",
      " Test Loss: 0.08570860366782417\n",
      " Training Accuracy: 0.9547338471189175\n",
      " Test Accuracy: 0.9422389291280829\n",
      "Epoch 7\n",
      " Training Loss: 0.0673307392277465\n",
      " Test Loss: 0.08515724531658318\n",
      " Training Accuracy: 0.9569704573289124\n",
      " Test Accuracy: 0.9433391400018337\n",
      "Epoch 8\n",
      " Training Loss: 0.06410860004803992\n",
      " Test Loss: 0.08393108196880507\n",
      " Training Accuracy: 0.9586432476028318\n",
      " Test Accuracy: 0.9426973503254791\n",
      "Epoch 9\n",
      " Training Loss: 0.061529781360993324\n",
      " Test Loss: 0.08439680545226387\n",
      " Training Accuracy: 0.9602450936463841\n",
      " Test Accuracy: 0.9435530698939519\n"
     ]
    }
   ],
   "source": [
    "# after having tuned the parameters the final accuracy is calculated on the test set\n",
    "train_losses = []\n",
    "test_losses = []\n",
    "train_accs = []\n",
    "test_accs = []\n",
    "\n",
    "for t in range(NUM_EPOCHS):\n",
    "    train_loss = train_epoch(srn, train_dataloader, optimizer=opt, loss_fn=loss_fn, device=device)\n",
    "    test_loss = eval_epoch(srn, test_dataloader, loss_fn, device=device)\n",
    "    train_acc = measure_accuracy(srn, train_dataloader, device=device)\n",
    "    test_acc = measure_accuracy(srn, test_dataloader, device=device)\n",
    "    \n",
    "    print('Epoch {}'.format(t))\n",
    "    print(' Training Loss: {}'.format(train_loss))\n",
    "    print(' Test Loss: {}'.format(test_loss))\n",
    "    print(' Training Accuracy: {}'.format(train_acc))\n",
    "    print(' Test Accuracy: {}'.format(test_acc))\n",
    "    \n",
    "    train_losses.append(train_loss)\n",
    "    test_losses.append(test_loss)\n",
    "    train_accs.append(train_acc)\n",
    "    test_accs.append(test_acc)"
   ]
  },
  {
   "cell_type": "code",
   "execution_count": 30,
   "metadata": {},
   "outputs": [
    {
     "data": {
      "text/plain": [
       "<matplotlib.legend.Legend at 0x147fc02d320>"
      ]
     },
     "execution_count": 30,
     "metadata": {},
     "output_type": "execute_result"
    },
    {
     "data": {
      "image/png": "[encoded data removed]",
      "text/plain": [
       "<Figure size 432x288 with 1 Axes>"
      ]
     },
     "metadata": {
      "needs_background": "light"
     },
     "output_type": "display_data"
    }
   ],
   "source": [
    "# Plotting of the accuracy\n",
    "\n",
    "# naming the x axis \n",
    "plt.xlabel('epoch') \n",
    "# naming the y axis \n",
    "plt.ylabel('accuracy')\n",
    "plt.plot(range(1, NUM_EPOCHS + 1), train_accs, label = 'training accuracy')\n",
    "plt.plot(range(1, NUM_EPOCHS + 1), test_accs, label = 'test accuracy')\n",
    "plt.legend()"
   ]
  },
  {
   "cell_type": "code",
   "execution_count": 31,
   "metadata": {},
   "outputs": [
    {
     "data": {
      "text/plain": [
       "<matplotlib.legend.Legend at 0x147fd118f60>"
      ]
     },
     "execution_count": 31,
     "metadata": {},
     "output_type": "execute_result"
    },
    {
     "data": {
      "image/png": "[encoded data removed]",
      "text/plain": [
       "<Figure size 432x288 with 1 Axes>"
      ]
     },
     "metadata": {
      "needs_background": "light"
     },
     "output_type": "display_data"
    }
   ],
   "source": [
    "# Plotting of the loss\n",
    "\n",
    "# naming the x axis \n",
    "plt.xlabel('epoch') \n",
    "# naming the y axis \n",
    "plt.ylabel('loss')\n",
    "plt.plot(range(1, NUM_EPOCHS + 1), train_losses, label = 'training loss')\n",
    "plt.plot(range(1, NUM_EPOCHS + 1), test_losses, label = 'test loss')\n",
    "plt.legend()"
   ]
  },
  {
   "cell_type": "markdown",
   "metadata": {},
   "source": [
    "The test accuracy on this task should be well over 90%. If you are getting an accuracy much below this, play with your hyperparameters and try to improve. \n",
    "\n",
    "#### c) What is your final accuracy?"
   ]
  },
  {
   "cell_type": "markdown",
   "metadata": {},
   "source": [
    "94.2%"
   ]
  },
  {
   "cell_type": "markdown",
   "metadata": {},
   "source": [
    "#### d) A little error analysis\n",
    "Minimally, find a few instances of sentences with wrong tags. Can you say why these mistakes are made?\n",
    "Optionally, feel free is do a full error analysis. What are the most commonly confused tags for an English POS tagger?"
   ]
  },
  {
   "cell_type": "code",
   "execution_count": 32,
   "metadata": {},
   "outputs": [
    {
     "name": "stdout",
     "output_type": "stream",
     "text": [
      "Regular TV series ratings have slumped in the past five years , and premiering new shows is a crap shoot , Mr. Pilson says .\n",
      "\n",
      "JJ  NN  NN  NNS  VBP  VBN  IN  DT  JJ  CD  NNS  ,  CC  VBG  JJ  NNS  VBZ  DT  NN  NN  ,  NNP  NNP  VBZ  .\n",
      "\n",
      "JJ  NNP  NNP  NNS  VBP  VBD  IN  DT  JJ  CD  NNS  ,  CC  VBG  NNP  VBZ  VBZ  DT  NN  PRP  ,  NNP  NNP  VBZ  .  \n",
      "\n",
      "\n",
      "\n",
      "But Mr. Zoeller also acknowledges that consultants can be very effective .\n",
      "\n",
      "CC  NNP  NNP  RB  VBZ  IN  NNS  MD  VB  RB  JJ  .\n",
      "\n",
      "CC  NNP  NNP  RB  VBZ  DT  NNS  MD  VB  RB  JJ  .  \n",
      "\n",
      "\n",
      "\n",
      "Sen. Dole also said he hoped for unanimous support for a resolution he plans to offer tomorrow denouncing the Nicaraguan leader .\n",
      "\n",
      "NNP  NNP  RB  VBD  PRP  VBD  IN  JJ  NN  IN  DT  NN  PRP  VBZ  TO  VB  NN  VBG  DT  JJ  NN  .\n",
      "\n",
      "NNP  NNP  RB  VBD  PRP  VBD  IN  JJ  NN  IN  DT  NNP  PRP  NNS  TO  NN  NN  VBG  DT  JJ  NN  .  \n",
      "\n",
      "\n",
      "\n"
     ]
    }
   ],
   "source": [
    "import random\n",
    "\n",
    "int_to_pos = [(v, k) for k, v in pos_to_int.items()]\n",
    "int_to_pos.insert(0, (0, 'PAD'))\n",
    "int_to_pos.sort()\n",
    "int_to_pos = dict(int_to_pos)\n",
    "\n",
    "# indexes = random.sample(range(len(sentences)), 5)  # used to find sentences\n",
    "indexes = list([11823, 14963, 6589])\n",
    "\n",
    "for idx in indexes:\n",
    "    test_sentence = sentences[idx]\n",
    "    true_tags = postags[idx]\n",
    "\n",
    "    test_doc = nlp(test_sentence)  # the processed sentence\n",
    "    test_vectors = list(map(lambda x: x.vector, test_doc))  # its vectors\n",
    "    test_vectors = torch.FloatTensor(test_vectors).unsqueeze(0)\n",
    "\n",
    "    values = srn(test_vectors).squeeze(0)\n",
    "    values_list = list(map(lambda x: x.argmax(dim=0).item(), values))\n",
    "\n",
    "    print(test_sentence)\n",
    "    print()\n",
    "    print(*true_tags, sep = \"  \")\n",
    "    print()\n",
    "    for value, comp in zip(values_list, true_tags):\n",
    "        pos = int_to_pos.get(value)\n",
    "        if pos != comp:\n",
    "            print(pos, \" \", end = '')\n",
    "        else:\n",
    "            print(pos, \" \", end = '')\n",
    "    print('\\n' * 3)\n"
   ]
  },
  {
   "cell_type": "markdown",
   "metadata": {},
   "source": [
    "The code above gives a few sentences, their tags as given by the database, and the tags generated by the RNS made for this assignment.\n",
    "\n",
    "In multiple cases the RNS has issues correctly classifying different forms of nouns. For example, in the first sentence, the word 'series', and in the last sentence the word 'resolution' is classified as a proper noun instead of a singular common noun.\n",
    "This is quite understandable as nouns and proper nouns are used almost identically in sentence structure. The most significant difference is the fact that proper nouns are always capitalized, but because common nouns are also capitalized when at the beginning of a sentence this can be hard to learn.\n",
    "\n",
    "Similar mistakes are made in the first sentence, where verbs being falsely classified as different kinds of verbs. The word 'slumped' is tagged as a past tense verb, instead of a past participle verb. The time (past tense) was properly identified, but the nuanced differences between these types of words are hard to catch.\n",
    "\n",
    "There are also a few examples where nouns are classified as verbs and vice-versa. Examples of these are the words 'shows' and 'plans'. All of these words can be either verbs or nouns depending on the context. While a RNS should be able to find some of these differences due to being more aware of temporal relationships of words in sentences, this does not seem to work perfectly.\n",
    "\n",
    "The interpretations of temporal relationships could also lead to some errors. In the first sentence, the word 'new' gets tagged as a proper noun instead of as an adjective. This is likely because it is more common to have some type of noun right after a verb. In the second sentence, the word 'that' is tagged as a determiner instead of as a preposition. This is likely because often after a connective type of word a determiner is given to describe the relation between a verb and what comes next, instead of a preposition.\n",
    "\n",
    "The misidentification of 'premiering', classified as an adjective, is hard to explain, but coherent with the classification of 'new' as a noun and 'shows' as a verb.\n",
    "\n",
    "The classification of 'shoot' as a personal pronoun cannot be explained in linguistic terms."
   ]
  }
 ],
 "metadata": {
  "kernelspec": {
   "display_name": "Python 3",
   "language": "python",
   "name": "python3"
  },
  "language_info": {
   "codemirror_mode": {
    "name": "ipython",
    "version": 3
   },
   "file_extension": ".py",
   "mimetype": "text/x-python",
   "name": "python",
   "nbconvert_exporter": "python",
   "pygments_lexer": "ipython3",
   "version": "3.7.3"
  }
 },
 "nbformat": 4,
 "nbformat_minor": 2
}
